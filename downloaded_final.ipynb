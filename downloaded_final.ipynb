{
 "cells": [
  {
   "cell_type": "code",
   "execution_count": 45,
   "id": "54ec59b3",
   "metadata": {},
   "outputs": [
    {
     "data": {
      "application/javascript": [
       "\n",
       "            setTimeout(function() {\n",
       "                var nbb_cell_id = 45;\n",
       "                var nbb_unformatted_code = \"import numpy as np\\nimport pandas as pd\\nimport matplotlib.pyplot as plt\";\n",
       "                var nbb_formatted_code = \"import numpy as np\\nimport pandas as pd\\nimport matplotlib.pyplot as plt\";\n",
       "                var nbb_cells = Jupyter.notebook.get_cells();\n",
       "                for (var i = 0; i < nbb_cells.length; ++i) {\n",
       "                    if (nbb_cells[i].input_prompt_number == nbb_cell_id) {\n",
       "                        if (nbb_cells[i].get_text() == nbb_unformatted_code) {\n",
       "                             nbb_cells[i].set_text(nbb_formatted_code);\n",
       "                        }\n",
       "                        break;\n",
       "                    }\n",
       "                }\n",
       "            }, 500);\n",
       "            "
      ],
      "text/plain": [
       "<IPython.core.display.Javascript object>"
      ]
     },
     "metadata": {},
     "output_type": "display_data"
    }
   ],
   "source": [
    "import numpy as np\n",
    "import pandas as pd\n",
    "import matplotlib.pyplot as plt"
   ]
  },
  {
   "cell_type": "code",
   "execution_count": 46,
   "id": "1da6de37",
   "metadata": {},
   "outputs": [
    {
     "data": {
      "application/javascript": [
       "\n",
       "            setTimeout(function() {\n",
       "                var nbb_cell_id = 46;\n",
       "                var nbb_unformatted_code = \"import torch\\nfrom torchvision import datasets, transforms, models  # datsets  , transforms\\nfrom torch.utils.data.sampler import SubsetRandomSampler\\nimport torch.nn as nn\\nimport torch.nn.functional as F\\nfrom datetime import datetime\";\n",
       "                var nbb_formatted_code = \"import torch\\nfrom torchvision import datasets, transforms, models  # datsets  , transforms\\nfrom torch.utils.data.sampler import SubsetRandomSampler\\nimport torch.nn as nn\\nimport torch.nn.functional as F\\nfrom datetime import datetime\";\n",
       "                var nbb_cells = Jupyter.notebook.get_cells();\n",
       "                for (var i = 0; i < nbb_cells.length; ++i) {\n",
       "                    if (nbb_cells[i].input_prompt_number == nbb_cell_id) {\n",
       "                        if (nbb_cells[i].get_text() == nbb_unformatted_code) {\n",
       "                             nbb_cells[i].set_text(nbb_formatted_code);\n",
       "                        }\n",
       "                        break;\n",
       "                    }\n",
       "                }\n",
       "            }, 500);\n",
       "            "
      ],
      "text/plain": [
       "<IPython.core.display.Javascript object>"
      ]
     },
     "metadata": {},
     "output_type": "display_data"
    }
   ],
   "source": [
    "import torch\n",
    "from torchvision import datasets, transforms, models  # datsets  , transforms\n",
    "from torch.utils.data.sampler import SubsetRandomSampler\n",
    "import torch.nn as nn\n",
    "import torch.nn.functional as F\n",
    "from datetime import datetime"
   ]
  },
  {
   "cell_type": "code",
   "execution_count": 47,
   "id": "9844243d",
   "metadata": {},
   "outputs": [
    {
     "name": "stdout",
     "output_type": "stream",
     "text": [
      "The nb_black extension is already loaded. To reload it, use:\n",
      "  %reload_ext nb_black\n"
     ]
    },
    {
     "data": {
      "application/javascript": [
       "\n",
       "            setTimeout(function() {\n",
       "                var nbb_cell_id = 47;\n",
       "                var nbb_unformatted_code = \"%load_ext nb_black\";\n",
       "                var nbb_formatted_code = \"%load_ext nb_black\";\n",
       "                var nbb_cells = Jupyter.notebook.get_cells();\n",
       "                for (var i = 0; i < nbb_cells.length; ++i) {\n",
       "                    if (nbb_cells[i].input_prompt_number == nbb_cell_id) {\n",
       "                        if (nbb_cells[i].get_text() == nbb_unformatted_code) {\n",
       "                             nbb_cells[i].set_text(nbb_formatted_code);\n",
       "                        }\n",
       "                        break;\n",
       "                    }\n",
       "                }\n",
       "            }, 500);\n",
       "            "
      ],
      "text/plain": [
       "<IPython.core.display.Javascript object>"
      ]
     },
     "metadata": {},
     "output_type": "display_data"
    }
   ],
   "source": [
    "%load_ext nb_black"
   ]
  },
  {
   "cell_type": "code",
   "execution_count": null,
   "id": "b458ea14",
   "metadata": {},
   "outputs": [],
   "source": []
  },
  {
   "cell_type": "code",
   "execution_count": 48,
   "id": "2d1e8c34",
   "metadata": {},
   "outputs": [
    {
     "data": {
      "application/javascript": [
       "\n",
       "            setTimeout(function() {\n",
       "                var nbb_cell_id = 48;\n",
       "                var nbb_unformatted_code = \"transform = transforms.Compose(\\n    [transforms.Resize(255), transforms.CenterCrop(224), transforms.ToTensor()]\\n)\";\n",
       "                var nbb_formatted_code = \"transform = transforms.Compose(\\n    [transforms.Resize(255), transforms.CenterCrop(224), transforms.ToTensor()]\\n)\";\n",
       "                var nbb_cells = Jupyter.notebook.get_cells();\n",
       "                for (var i = 0; i < nbb_cells.length; ++i) {\n",
       "                    if (nbb_cells[i].input_prompt_number == nbb_cell_id) {\n",
       "                        if (nbb_cells[i].get_text() == nbb_unformatted_code) {\n",
       "                             nbb_cells[i].set_text(nbb_formatted_code);\n",
       "                        }\n",
       "                        break;\n",
       "                    }\n",
       "                }\n",
       "            }, 500);\n",
       "            "
      ],
      "text/plain": [
       "<IPython.core.display.Javascript object>"
      ]
     },
     "metadata": {},
     "output_type": "display_data"
    }
   ],
   "source": [
    "transform = transforms.Compose(\n",
    "    [transforms.Resize(255), transforms.CenterCrop(224), transforms.ToTensor()]\n",
    ")"
   ]
  },
  {
   "cell_type": "code",
   "execution_count": 49,
   "id": "d447013f",
   "metadata": {},
   "outputs": [
    {
     "data": {
      "application/javascript": [
       "\n",
       "            setTimeout(function() {\n",
       "                var nbb_cell_id = 49;\n",
       "                var nbb_unformatted_code = \"dataset = datasets.ImageFolder(\\\"Data_aug\\\", transform=transform)\";\n",
       "                var nbb_formatted_code = \"dataset = datasets.ImageFolder(\\\"Data_aug\\\", transform=transform)\";\n",
       "                var nbb_cells = Jupyter.notebook.get_cells();\n",
       "                for (var i = 0; i < nbb_cells.length; ++i) {\n",
       "                    if (nbb_cells[i].input_prompt_number == nbb_cell_id) {\n",
       "                        if (nbb_cells[i].get_text() == nbb_unformatted_code) {\n",
       "                             nbb_cells[i].set_text(nbb_formatted_code);\n",
       "                        }\n",
       "                        break;\n",
       "                    }\n",
       "                }\n",
       "            }, 500);\n",
       "            "
      ],
      "text/plain": [
       "<IPython.core.display.Javascript object>"
      ]
     },
     "metadata": {},
     "output_type": "display_data"
    }
   ],
   "source": [
    "dataset = datasets.ImageFolder(\"Data_aug\", transform=transform)"
   ]
  },
  {
   "cell_type": "code",
   "execution_count": 50,
   "id": "71b49de0",
   "metadata": {},
   "outputs": [
    {
     "data": {
      "text/plain": [
       "Dataset ImageFolder\n",
       "    Number of datapoints: 861\n",
       "    Root location: Data_aug\n",
       "    StandardTransform\n",
       "Transform: Compose(\n",
       "               Resize(size=255, interpolation=bilinear, max_size=None, antialias=None)\n",
       "               CenterCrop(size=(224, 224))\n",
       "               ToTensor()\n",
       "           )"
      ]
     },
     "execution_count": 50,
     "metadata": {},
     "output_type": "execute_result"
    },
    {
     "data": {
      "application/javascript": [
       "\n",
       "            setTimeout(function() {\n",
       "                var nbb_cell_id = 50;\n",
       "                var nbb_unformatted_code = \"dataset\";\n",
       "                var nbb_formatted_code = \"dataset\";\n",
       "                var nbb_cells = Jupyter.notebook.get_cells();\n",
       "                for (var i = 0; i < nbb_cells.length; ++i) {\n",
       "                    if (nbb_cells[i].input_prompt_number == nbb_cell_id) {\n",
       "                        if (nbb_cells[i].get_text() == nbb_unformatted_code) {\n",
       "                             nbb_cells[i].set_text(nbb_formatted_code);\n",
       "                        }\n",
       "                        break;\n",
       "                    }\n",
       "                }\n",
       "            }, 500);\n",
       "            "
      ],
      "text/plain": [
       "<IPython.core.display.Javascript object>"
      ]
     },
     "metadata": {},
     "output_type": "display_data"
    }
   ],
   "source": [
    "dataset"
   ]
  },
  {
   "cell_type": "code",
   "execution_count": 51,
   "id": "4aa407f2",
   "metadata": {},
   "outputs": [
    {
     "data": {
      "application/javascript": [
       "\n",
       "            setTimeout(function() {\n",
       "                var nbb_cell_id = 51;\n",
       "                var nbb_unformatted_code = \"indices = list(range(len(dataset)))\";\n",
       "                var nbb_formatted_code = \"indices = list(range(len(dataset)))\";\n",
       "                var nbb_cells = Jupyter.notebook.get_cells();\n",
       "                for (var i = 0; i < nbb_cells.length; ++i) {\n",
       "                    if (nbb_cells[i].input_prompt_number == nbb_cell_id) {\n",
       "                        if (nbb_cells[i].get_text() == nbb_unformatted_code) {\n",
       "                             nbb_cells[i].set_text(nbb_formatted_code);\n",
       "                        }\n",
       "                        break;\n",
       "                    }\n",
       "                }\n",
       "            }, 500);\n",
       "            "
      ],
      "text/plain": [
       "<IPython.core.display.Javascript object>"
      ]
     },
     "metadata": {},
     "output_type": "display_data"
    }
   ],
   "source": [
    "indices = list(range(len(dataset)))"
   ]
  },
  {
   "cell_type": "code",
   "execution_count": 52,
   "id": "177f331f",
   "metadata": {},
   "outputs": [
    {
     "data": {
      "application/javascript": [
       "\n",
       "            setTimeout(function() {\n",
       "                var nbb_cell_id = 52;\n",
       "                var nbb_unformatted_code = \"split = int(np.floor(0.85 * len(dataset)))  # train_size\";\n",
       "                var nbb_formatted_code = \"split = int(np.floor(0.85 * len(dataset)))  # train_size\";\n",
       "                var nbb_cells = Jupyter.notebook.get_cells();\n",
       "                for (var i = 0; i < nbb_cells.length; ++i) {\n",
       "                    if (nbb_cells[i].input_prompt_number == nbb_cell_id) {\n",
       "                        if (nbb_cells[i].get_text() == nbb_unformatted_code) {\n",
       "                             nbb_cells[i].set_text(nbb_formatted_code);\n",
       "                        }\n",
       "                        break;\n",
       "                    }\n",
       "                }\n",
       "            }, 500);\n",
       "            "
      ],
      "text/plain": [
       "<IPython.core.display.Javascript object>"
      ]
     },
     "metadata": {},
     "output_type": "display_data"
    }
   ],
   "source": [
    "split = int(np.floor(0.85 * len(dataset)))  # train_size"
   ]
  },
  {
   "cell_type": "code",
   "execution_count": 53,
   "id": "c8425942",
   "metadata": {},
   "outputs": [
    {
     "data": {
      "application/javascript": [
       "\n",
       "            setTimeout(function() {\n",
       "                var nbb_cell_id = 53;\n",
       "                var nbb_unformatted_code = \"validation = int(np.floor(0.70 * split))  # validation\";\n",
       "                var nbb_formatted_code = \"validation = int(np.floor(0.70 * split))  # validation\";\n",
       "                var nbb_cells = Jupyter.notebook.get_cells();\n",
       "                for (var i = 0; i < nbb_cells.length; ++i) {\n",
       "                    if (nbb_cells[i].input_prompt_number == nbb_cell_id) {\n",
       "                        if (nbb_cells[i].get_text() == nbb_unformatted_code) {\n",
       "                             nbb_cells[i].set_text(nbb_formatted_code);\n",
       "                        }\n",
       "                        break;\n",
       "                    }\n",
       "                }\n",
       "            }, 500);\n",
       "            "
      ],
      "text/plain": [
       "<IPython.core.display.Javascript object>"
      ]
     },
     "metadata": {},
     "output_type": "display_data"
    }
   ],
   "source": [
    "validation = int(np.floor(0.70 * split))  # validation"
   ]
  },
  {
   "cell_type": "code",
   "execution_count": 54,
   "id": "a519b70c",
   "metadata": {},
   "outputs": [
    {
     "name": "stdout",
     "output_type": "stream",
     "text": [
      "0 511 731 861\n"
     ]
    },
    {
     "data": {
      "application/javascript": [
       "\n",
       "            setTimeout(function() {\n",
       "                var nbb_cell_id = 54;\n",
       "                var nbb_unformatted_code = \"print(0, validation, split, len(dataset))\";\n",
       "                var nbb_formatted_code = \"print(0, validation, split, len(dataset))\";\n",
       "                var nbb_cells = Jupyter.notebook.get_cells();\n",
       "                for (var i = 0; i < nbb_cells.length; ++i) {\n",
       "                    if (nbb_cells[i].input_prompt_number == nbb_cell_id) {\n",
       "                        if (nbb_cells[i].get_text() == nbb_unformatted_code) {\n",
       "                             nbb_cells[i].set_text(nbb_formatted_code);\n",
       "                        }\n",
       "                        break;\n",
       "                    }\n",
       "                }\n",
       "            }, 500);\n",
       "            "
      ],
      "text/plain": [
       "<IPython.core.display.Javascript object>"
      ]
     },
     "metadata": {},
     "output_type": "display_data"
    }
   ],
   "source": [
    "print(0, validation, split, len(dataset))"
   ]
  },
  {
   "cell_type": "code",
   "execution_count": 55,
   "id": "6768f9f6",
   "metadata": {},
   "outputs": [
    {
     "name": "stdout",
     "output_type": "stream",
     "text": [
      "length of train size :511\n",
      "length of validation size :220\n",
      "length of test size :350\n"
     ]
    },
    {
     "data": {
      "application/javascript": [
       "\n",
       "            setTimeout(function() {\n",
       "                var nbb_cell_id = 55;\n",
       "                var nbb_unformatted_code = \"print(f\\\"length of train size :{validation}\\\")\\nprint(f\\\"length of validation size :{split - validation}\\\")\\nprint(f\\\"length of test size :{len(dataset)-validation}\\\")\";\n",
       "                var nbb_formatted_code = \"print(f\\\"length of train size :{validation}\\\")\\nprint(f\\\"length of validation size :{split - validation}\\\")\\nprint(f\\\"length of test size :{len(dataset)-validation}\\\")\";\n",
       "                var nbb_cells = Jupyter.notebook.get_cells();\n",
       "                for (var i = 0; i < nbb_cells.length; ++i) {\n",
       "                    if (nbb_cells[i].input_prompt_number == nbb_cell_id) {\n",
       "                        if (nbb_cells[i].get_text() == nbb_unformatted_code) {\n",
       "                             nbb_cells[i].set_text(nbb_formatted_code);\n",
       "                        }\n",
       "                        break;\n",
       "                    }\n",
       "                }\n",
       "            }, 500);\n",
       "            "
      ],
      "text/plain": [
       "<IPython.core.display.Javascript object>"
      ]
     },
     "metadata": {},
     "output_type": "display_data"
    }
   ],
   "source": [
    "print(f\"length of train size :{validation}\")\n",
    "print(f\"length of validation size :{split - validation}\")\n",
    "print(f\"length of test size :{len(dataset)-validation}\")"
   ]
  },
  {
   "cell_type": "code",
   "execution_count": 56,
   "id": "cadd1cc7",
   "metadata": {},
   "outputs": [
    {
     "data": {
      "application/javascript": [
       "\n",
       "            setTimeout(function() {\n",
       "                var nbb_cell_id = 56;\n",
       "                var nbb_unformatted_code = \"np.random.shuffle(indices)\";\n",
       "                var nbb_formatted_code = \"np.random.shuffle(indices)\";\n",
       "                var nbb_cells = Jupyter.notebook.get_cells();\n",
       "                for (var i = 0; i < nbb_cells.length; ++i) {\n",
       "                    if (nbb_cells[i].input_prompt_number == nbb_cell_id) {\n",
       "                        if (nbb_cells[i].get_text() == nbb_unformatted_code) {\n",
       "                             nbb_cells[i].set_text(nbb_formatted_code);\n",
       "                        }\n",
       "                        break;\n",
       "                    }\n",
       "                }\n",
       "            }, 500);\n",
       "            "
      ],
      "text/plain": [
       "<IPython.core.display.Javascript object>"
      ]
     },
     "metadata": {},
     "output_type": "display_data"
    }
   ],
   "source": [
    "np.random.shuffle(indices)"
   ]
  },
  {
   "cell_type": "code",
   "execution_count": null,
   "id": "42a7e1dd",
   "metadata": {},
   "outputs": [],
   "source": []
  },
  {
   "cell_type": "code",
   "execution_count": null,
   "id": "a7153058",
   "metadata": {},
   "outputs": [],
   "source": []
  },
  {
   "cell_type": "code",
   "execution_count": 57,
   "id": "80c759a4",
   "metadata": {},
   "outputs": [
    {
     "data": {
      "application/javascript": [
       "\n",
       "            setTimeout(function() {\n",
       "                var nbb_cell_id = 57;\n",
       "                var nbb_unformatted_code = \"train_indices, validation_indices, test_indices = (\\n    indices[:validation],\\n    indices[validation:split],\\n    indices[split:],\\n)\";\n",
       "                var nbb_formatted_code = \"train_indices, validation_indices, test_indices = (\\n    indices[:validation],\\n    indices[validation:split],\\n    indices[split:],\\n)\";\n",
       "                var nbb_cells = Jupyter.notebook.get_cells();\n",
       "                for (var i = 0; i < nbb_cells.length; ++i) {\n",
       "                    if (nbb_cells[i].input_prompt_number == nbb_cell_id) {\n",
       "                        if (nbb_cells[i].get_text() == nbb_unformatted_code) {\n",
       "                             nbb_cells[i].set_text(nbb_formatted_code);\n",
       "                        }\n",
       "                        break;\n",
       "                    }\n",
       "                }\n",
       "            }, 500);\n",
       "            "
      ],
      "text/plain": [
       "<IPython.core.display.Javascript object>"
      ]
     },
     "metadata": {},
     "output_type": "display_data"
    }
   ],
   "source": [
    "train_indices, validation_indices, test_indices = (\n",
    "    indices[:validation],\n",
    "    indices[validation:split],\n",
    "    indices[split:],\n",
    ")"
   ]
  },
  {
   "cell_type": "code",
   "execution_count": 58,
   "id": "034a099f",
   "metadata": {},
   "outputs": [
    {
     "data": {
      "application/javascript": [
       "\n",
       "            setTimeout(function() {\n",
       "                var nbb_cell_id = 58;\n",
       "                var nbb_unformatted_code = \"train_sampler = SubsetRandomSampler(train_indices)\\nvalidation_sampler = SubsetRandomSampler(validation_indices)\\ntest_sampler = SubsetRandomSampler(test_indices)\";\n",
       "                var nbb_formatted_code = \"train_sampler = SubsetRandomSampler(train_indices)\\nvalidation_sampler = SubsetRandomSampler(validation_indices)\\ntest_sampler = SubsetRandomSampler(test_indices)\";\n",
       "                var nbb_cells = Jupyter.notebook.get_cells();\n",
       "                for (var i = 0; i < nbb_cells.length; ++i) {\n",
       "                    if (nbb_cells[i].input_prompt_number == nbb_cell_id) {\n",
       "                        if (nbb_cells[i].get_text() == nbb_unformatted_code) {\n",
       "                             nbb_cells[i].set_text(nbb_formatted_code);\n",
       "                        }\n",
       "                        break;\n",
       "                    }\n",
       "                }\n",
       "            }, 500);\n",
       "            "
      ],
      "text/plain": [
       "<IPython.core.display.Javascript object>"
      ]
     },
     "metadata": {},
     "output_type": "display_data"
    }
   ],
   "source": [
    "train_sampler = SubsetRandomSampler(train_indices)\n",
    "validation_sampler = SubsetRandomSampler(validation_indices)\n",
    "test_sampler = SubsetRandomSampler(test_indices)"
   ]
  },
  {
   "cell_type": "code",
   "execution_count": 59,
   "id": "aa5faa06",
   "metadata": {},
   "outputs": [
    {
     "data": {
      "application/javascript": [
       "\n",
       "            setTimeout(function() {\n",
       "                var nbb_cell_id = 59;\n",
       "                var nbb_unformatted_code = \"targets_size = len(dataset.class_to_idx)\";\n",
       "                var nbb_formatted_code = \"targets_size = len(dataset.class_to_idx)\";\n",
       "                var nbb_cells = Jupyter.notebook.get_cells();\n",
       "                for (var i = 0; i < nbb_cells.length; ++i) {\n",
       "                    if (nbb_cells[i].input_prompt_number == nbb_cell_id) {\n",
       "                        if (nbb_cells[i].get_text() == nbb_unformatted_code) {\n",
       "                             nbb_cells[i].set_text(nbb_formatted_code);\n",
       "                        }\n",
       "                        break;\n",
       "                    }\n",
       "                }\n",
       "            }, 500);\n",
       "            "
      ],
      "text/plain": [
       "<IPython.core.display.Javascript object>"
      ]
     },
     "metadata": {},
     "output_type": "display_data"
    }
   ],
   "source": [
    "targets_size = len(dataset.class_to_idx)"
   ]
  },
  {
   "cell_type": "code",
   "execution_count": 60,
   "id": "cef55dc3",
   "metadata": {},
   "outputs": [
    {
     "data": {
      "text/plain": [
       "39"
      ]
     },
     "execution_count": 60,
     "metadata": {},
     "output_type": "execute_result"
    },
    {
     "data": {
      "application/javascript": [
       "\n",
       "            setTimeout(function() {\n",
       "                var nbb_cell_id = 60;\n",
       "                var nbb_unformatted_code = \"targets_size\";\n",
       "                var nbb_formatted_code = \"targets_size\";\n",
       "                var nbb_cells = Jupyter.notebook.get_cells();\n",
       "                for (var i = 0; i < nbb_cells.length; ++i) {\n",
       "                    if (nbb_cells[i].input_prompt_number == nbb_cell_id) {\n",
       "                        if (nbb_cells[i].get_text() == nbb_unformatted_code) {\n",
       "                             nbb_cells[i].set_text(nbb_formatted_code);\n",
       "                        }\n",
       "                        break;\n",
       "                    }\n",
       "                }\n",
       "            }, 500);\n",
       "            "
      ],
      "text/plain": [
       "<IPython.core.display.Javascript object>"
      ]
     },
     "metadata": {},
     "output_type": "display_data"
    }
   ],
   "source": [
    "targets_size"
   ]
  },
  {
   "cell_type": "code",
   "execution_count": null,
   "id": "11c7e7cc",
   "metadata": {},
   "outputs": [],
   "source": []
  },
  {
   "cell_type": "code",
   "execution_count": null,
   "id": "f50cafda",
   "metadata": {},
   "outputs": [],
   "source": []
  },
  {
   "cell_type": "markdown",
   "id": "4fc17879",
   "metadata": {},
   "source": [
    "Transfer Learning"
   ]
  },
  {
   "cell_type": "code",
   "execution_count": 61,
   "id": "e4f880c6",
   "metadata": {},
   "outputs": [
    {
     "data": {
      "application/javascript": [
       "\n",
       "            setTimeout(function() {\n",
       "                var nbb_cell_id = 61;\n",
       "                var nbb_unformatted_code = \"model = models.vgg16(pretrained=True)\";\n",
       "                var nbb_formatted_code = \"model = models.vgg16(pretrained=True)\";\n",
       "                var nbb_cells = Jupyter.notebook.get_cells();\n",
       "                for (var i = 0; i < nbb_cells.length; ++i) {\n",
       "                    if (nbb_cells[i].input_prompt_number == nbb_cell_id) {\n",
       "                        if (nbb_cells[i].get_text() == nbb_unformatted_code) {\n",
       "                             nbb_cells[i].set_text(nbb_formatted_code);\n",
       "                        }\n",
       "                        break;\n",
       "                    }\n",
       "                }\n",
       "            }, 500);\n",
       "            "
      ],
      "text/plain": [
       "<IPython.core.display.Javascript object>"
      ]
     },
     "metadata": {},
     "output_type": "display_data"
    }
   ],
   "source": [
    "model = models.vgg16(pretrained=True)"
   ]
  },
  {
   "cell_type": "code",
   "execution_count": 62,
   "id": "f0ad126c",
   "metadata": {},
   "outputs": [
    {
     "data": {
      "application/javascript": [
       "\n",
       "            setTimeout(function() {\n",
       "                var nbb_cell_id = 62;\n",
       "                var nbb_unformatted_code = \"for params in model.parameters():\\n    params.requires_grad = False\";\n",
       "                var nbb_formatted_code = \"for params in model.parameters():\\n    params.requires_grad = False\";\n",
       "                var nbb_cells = Jupyter.notebook.get_cells();\n",
       "                for (var i = 0; i < nbb_cells.length; ++i) {\n",
       "                    if (nbb_cells[i].input_prompt_number == nbb_cell_id) {\n",
       "                        if (nbb_cells[i].get_text() == nbb_unformatted_code) {\n",
       "                             nbb_cells[i].set_text(nbb_formatted_code);\n",
       "                        }\n",
       "                        break;\n",
       "                    }\n",
       "                }\n",
       "            }, 500);\n",
       "            "
      ],
      "text/plain": [
       "<IPython.core.display.Javascript object>"
      ]
     },
     "metadata": {},
     "output_type": "display_data"
    }
   ],
   "source": [
    "for params in model.parameters():\n",
    "    params.requires_grad = False"
   ]
  },
  {
   "cell_type": "code",
   "execution_count": 63,
   "id": "c9a8a027",
   "metadata": {},
   "outputs": [
    {
     "data": {
      "text/plain": [
       "VGG(\n",
       "  (features): Sequential(\n",
       "    (0): Conv2d(3, 64, kernel_size=(3, 3), stride=(1, 1), padding=(1, 1))\n",
       "    (1): ReLU(inplace=True)\n",
       "    (2): Conv2d(64, 64, kernel_size=(3, 3), stride=(1, 1), padding=(1, 1))\n",
       "    (3): ReLU(inplace=True)\n",
       "    (4): MaxPool2d(kernel_size=2, stride=2, padding=0, dilation=1, ceil_mode=False)\n",
       "    (5): Conv2d(64, 128, kernel_size=(3, 3), stride=(1, 1), padding=(1, 1))\n",
       "    (6): ReLU(inplace=True)\n",
       "    (7): Conv2d(128, 128, kernel_size=(3, 3), stride=(1, 1), padding=(1, 1))\n",
       "    (8): ReLU(inplace=True)\n",
       "    (9): MaxPool2d(kernel_size=2, stride=2, padding=0, dilation=1, ceil_mode=False)\n",
       "    (10): Conv2d(128, 256, kernel_size=(3, 3), stride=(1, 1), padding=(1, 1))\n",
       "    (11): ReLU(inplace=True)\n",
       "    (12): Conv2d(256, 256, kernel_size=(3, 3), stride=(1, 1), padding=(1, 1))\n",
       "    (13): ReLU(inplace=True)\n",
       "    (14): Conv2d(256, 256, kernel_size=(3, 3), stride=(1, 1), padding=(1, 1))\n",
       "    (15): ReLU(inplace=True)\n",
       "    (16): MaxPool2d(kernel_size=2, stride=2, padding=0, dilation=1, ceil_mode=False)\n",
       "    (17): Conv2d(256, 512, kernel_size=(3, 3), stride=(1, 1), padding=(1, 1))\n",
       "    (18): ReLU(inplace=True)\n",
       "    (19): Conv2d(512, 512, kernel_size=(3, 3), stride=(1, 1), padding=(1, 1))\n",
       "    (20): ReLU(inplace=True)\n",
       "    (21): Conv2d(512, 512, kernel_size=(3, 3), stride=(1, 1), padding=(1, 1))\n",
       "    (22): ReLU(inplace=True)\n",
       "    (23): MaxPool2d(kernel_size=2, stride=2, padding=0, dilation=1, ceil_mode=False)\n",
       "    (24): Conv2d(512, 512, kernel_size=(3, 3), stride=(1, 1), padding=(1, 1))\n",
       "    (25): ReLU(inplace=True)\n",
       "    (26): Conv2d(512, 512, kernel_size=(3, 3), stride=(1, 1), padding=(1, 1))\n",
       "    (27): ReLU(inplace=True)\n",
       "    (28): Conv2d(512, 512, kernel_size=(3, 3), stride=(1, 1), padding=(1, 1))\n",
       "    (29): ReLU(inplace=True)\n",
       "    (30): MaxPool2d(kernel_size=2, stride=2, padding=0, dilation=1, ceil_mode=False)\n",
       "  )\n",
       "  (avgpool): AdaptiveAvgPool2d(output_size=(7, 7))\n",
       "  (classifier): Sequential(\n",
       "    (0): Linear(in_features=25088, out_features=4096, bias=True)\n",
       "    (1): ReLU(inplace=True)\n",
       "    (2): Dropout(p=0.5, inplace=False)\n",
       "    (3): Linear(in_features=4096, out_features=4096, bias=True)\n",
       "    (4): ReLU(inplace=True)\n",
       "    (5): Dropout(p=0.5, inplace=False)\n",
       "    (6): Linear(in_features=4096, out_features=1000, bias=True)\n",
       "  )\n",
       ")"
      ]
     },
     "execution_count": 63,
     "metadata": {},
     "output_type": "execute_result"
    },
    {
     "data": {
      "application/javascript": [
       "\n",
       "            setTimeout(function() {\n",
       "                var nbb_cell_id = 63;\n",
       "                var nbb_unformatted_code = \"model\";\n",
       "                var nbb_formatted_code = \"model\";\n",
       "                var nbb_cells = Jupyter.notebook.get_cells();\n",
       "                for (var i = 0; i < nbb_cells.length; ++i) {\n",
       "                    if (nbb_cells[i].input_prompt_number == nbb_cell_id) {\n",
       "                        if (nbb_cells[i].get_text() == nbb_unformatted_code) {\n",
       "                             nbb_cells[i].set_text(nbb_formatted_code);\n",
       "                        }\n",
       "                        break;\n",
       "                    }\n",
       "                }\n",
       "            }, 500);\n",
       "            "
      ],
      "text/plain": [
       "<IPython.core.display.Javascript object>"
      ]
     },
     "metadata": {},
     "output_type": "display_data"
    }
   ],
   "source": [
    "model"
   ]
  },
  {
   "cell_type": "code",
   "execution_count": 64,
   "id": "468a0df6",
   "metadata": {},
   "outputs": [
    {
     "data": {
      "text/plain": [
       "25088"
      ]
     },
     "execution_count": 64,
     "metadata": {},
     "output_type": "execute_result"
    },
    {
     "data": {
      "application/javascript": [
       "\n",
       "            setTimeout(function() {\n",
       "                var nbb_cell_id = 64;\n",
       "                var nbb_unformatted_code = \"n_features = model.classifier[0].in_features\\nn_features\";\n",
       "                var nbb_formatted_code = \"n_features = model.classifier[0].in_features\\nn_features\";\n",
       "                var nbb_cells = Jupyter.notebook.get_cells();\n",
       "                for (var i = 0; i < nbb_cells.length; ++i) {\n",
       "                    if (nbb_cells[i].input_prompt_number == nbb_cell_id) {\n",
       "                        if (nbb_cells[i].get_text() == nbb_unformatted_code) {\n",
       "                             nbb_cells[i].set_text(nbb_formatted_code);\n",
       "                        }\n",
       "                        break;\n",
       "                    }\n",
       "                }\n",
       "            }, 500);\n",
       "            "
      ],
      "text/plain": [
       "<IPython.core.display.Javascript object>"
      ]
     },
     "metadata": {},
     "output_type": "display_data"
    }
   ],
   "source": [
    "n_features = model.classifier[0].in_features\n",
    "n_features"
   ]
  },
  {
   "cell_type": "code",
   "execution_count": 65,
   "id": "e5d0e0ae",
   "metadata": {},
   "outputs": [
    {
     "data": {
      "application/javascript": [
       "\n",
       "            setTimeout(function() {\n",
       "                var nbb_cell_id = 65;\n",
       "                var nbb_unformatted_code = \"model.classifier = nn.Sequential(\\n    nn.Linear(n_features, 1024),\\n    nn.ReLU(),\\n    nn.Dropout(0.4),\\n    nn.Linear(1024, targets_size),\\n)\";\n",
       "                var nbb_formatted_code = \"model.classifier = nn.Sequential(\\n    nn.Linear(n_features, 1024),\\n    nn.ReLU(),\\n    nn.Dropout(0.4),\\n    nn.Linear(1024, targets_size),\\n)\";\n",
       "                var nbb_cells = Jupyter.notebook.get_cells();\n",
       "                for (var i = 0; i < nbb_cells.length; ++i) {\n",
       "                    if (nbb_cells[i].input_prompt_number == nbb_cell_id) {\n",
       "                        if (nbb_cells[i].get_text() == nbb_unformatted_code) {\n",
       "                             nbb_cells[i].set_text(nbb_formatted_code);\n",
       "                        }\n",
       "                        break;\n",
       "                    }\n",
       "                }\n",
       "            }, 500);\n",
       "            "
      ],
      "text/plain": [
       "<IPython.core.display.Javascript object>"
      ]
     },
     "metadata": {},
     "output_type": "display_data"
    }
   ],
   "source": [
    "model.classifier = nn.Sequential(\n",
    "    nn.Linear(n_features, 1024),\n",
    "    nn.ReLU(),\n",
    "    nn.Dropout(0.4),\n",
    "    nn.Linear(1024, targets_size),\n",
    ")"
   ]
  },
  {
   "cell_type": "code",
   "execution_count": 66,
   "id": "1d294273",
   "metadata": {},
   "outputs": [
    {
     "data": {
      "text/plain": [
       "VGG(\n",
       "  (features): Sequential(\n",
       "    (0): Conv2d(3, 64, kernel_size=(3, 3), stride=(1, 1), padding=(1, 1))\n",
       "    (1): ReLU(inplace=True)\n",
       "    (2): Conv2d(64, 64, kernel_size=(3, 3), stride=(1, 1), padding=(1, 1))\n",
       "    (3): ReLU(inplace=True)\n",
       "    (4): MaxPool2d(kernel_size=2, stride=2, padding=0, dilation=1, ceil_mode=False)\n",
       "    (5): Conv2d(64, 128, kernel_size=(3, 3), stride=(1, 1), padding=(1, 1))\n",
       "    (6): ReLU(inplace=True)\n",
       "    (7): Conv2d(128, 128, kernel_size=(3, 3), stride=(1, 1), padding=(1, 1))\n",
       "    (8): ReLU(inplace=True)\n",
       "    (9): MaxPool2d(kernel_size=2, stride=2, padding=0, dilation=1, ceil_mode=False)\n",
       "    (10): Conv2d(128, 256, kernel_size=(3, 3), stride=(1, 1), padding=(1, 1))\n",
       "    (11): ReLU(inplace=True)\n",
       "    (12): Conv2d(256, 256, kernel_size=(3, 3), stride=(1, 1), padding=(1, 1))\n",
       "    (13): ReLU(inplace=True)\n",
       "    (14): Conv2d(256, 256, kernel_size=(3, 3), stride=(1, 1), padding=(1, 1))\n",
       "    (15): ReLU(inplace=True)\n",
       "    (16): MaxPool2d(kernel_size=2, stride=2, padding=0, dilation=1, ceil_mode=False)\n",
       "    (17): Conv2d(256, 512, kernel_size=(3, 3), stride=(1, 1), padding=(1, 1))\n",
       "    (18): ReLU(inplace=True)\n",
       "    (19): Conv2d(512, 512, kernel_size=(3, 3), stride=(1, 1), padding=(1, 1))\n",
       "    (20): ReLU(inplace=True)\n",
       "    (21): Conv2d(512, 512, kernel_size=(3, 3), stride=(1, 1), padding=(1, 1))\n",
       "    (22): ReLU(inplace=True)\n",
       "    (23): MaxPool2d(kernel_size=2, stride=2, padding=0, dilation=1, ceil_mode=False)\n",
       "    (24): Conv2d(512, 512, kernel_size=(3, 3), stride=(1, 1), padding=(1, 1))\n",
       "    (25): ReLU(inplace=True)\n",
       "    (26): Conv2d(512, 512, kernel_size=(3, 3), stride=(1, 1), padding=(1, 1))\n",
       "    (27): ReLU(inplace=True)\n",
       "    (28): Conv2d(512, 512, kernel_size=(3, 3), stride=(1, 1), padding=(1, 1))\n",
       "    (29): ReLU(inplace=True)\n",
       "    (30): MaxPool2d(kernel_size=2, stride=2, padding=0, dilation=1, ceil_mode=False)\n",
       "  )\n",
       "  (avgpool): AdaptiveAvgPool2d(output_size=(7, 7))\n",
       "  (classifier): Sequential(\n",
       "    (0): Linear(in_features=25088, out_features=1024, bias=True)\n",
       "    (1): ReLU()\n",
       "    (2): Dropout(p=0.4, inplace=False)\n",
       "    (3): Linear(in_features=1024, out_features=39, bias=True)\n",
       "  )\n",
       ")"
      ]
     },
     "execution_count": 66,
     "metadata": {},
     "output_type": "execute_result"
    },
    {
     "data": {
      "application/javascript": [
       "\n",
       "            setTimeout(function() {\n",
       "                var nbb_cell_id = 66;\n",
       "                var nbb_unformatted_code = \"model\";\n",
       "                var nbb_formatted_code = \"model\";\n",
       "                var nbb_cells = Jupyter.notebook.get_cells();\n",
       "                for (var i = 0; i < nbb_cells.length; ++i) {\n",
       "                    if (nbb_cells[i].input_prompt_number == nbb_cell_id) {\n",
       "                        if (nbb_cells[i].get_text() == nbb_unformatted_code) {\n",
       "                             nbb_cells[i].set_text(nbb_formatted_code);\n",
       "                        }\n",
       "                        break;\n",
       "                    }\n",
       "                }\n",
       "            }, 500);\n",
       "            "
      ],
      "text/plain": [
       "<IPython.core.display.Javascript object>"
      ]
     },
     "metadata": {},
     "output_type": "display_data"
    }
   ],
   "source": [
    "model"
   ]
  },
  {
   "cell_type": "code",
   "execution_count": null,
   "id": "cbdad2b4",
   "metadata": {},
   "outputs": [],
   "source": []
  },
  {
   "cell_type": "code",
   "execution_count": null,
   "id": "3c60a144",
   "metadata": {},
   "outputs": [],
   "source": []
  },
  {
   "cell_type": "code",
   "execution_count": 67,
   "id": "afb9b8fd",
   "metadata": {},
   "outputs": [
    {
     "data": {
      "application/javascript": [
       "\n",
       "            setTimeout(function() {\n",
       "                var nbb_cell_id = 67;\n",
       "                var nbb_unformatted_code = \"class CNN(nn.Module):\\n    def __init__(self, K):\\n        super(CNN, self).__init__()\\n        self.conv_layers = nn.Sequential(\\n            # conv1\\n            nn.Conv2d(in_channels=3, out_channels=32, kernel_size=3, padding=1),\\n            nn.ReLU(),\\n            nn.BatchNorm2d(32),\\n            nn.Conv2d(in_channels=32, out_channels=32, kernel_size=3, padding=1),\\n            nn.ReLU(),\\n            nn.BatchNorm2d(32),\\n            nn.MaxPool2d(2),\\n            # conv2\\n            nn.Conv2d(in_channels=32, out_channels=64, kernel_size=3, padding=1),\\n            nn.ReLU(),\\n            nn.BatchNorm2d(64),\\n            nn.Conv2d(in_channels=64, out_channels=64, kernel_size=3, padding=1),\\n            nn.ReLU(),\\n            nn.BatchNorm2d(64),\\n            nn.MaxPool2d(2),\\n            # conv3\\n            nn.Conv2d(in_channels=64, out_channels=128, kernel_size=3, padding=1),\\n            nn.ReLU(),\\n            nn.BatchNorm2d(128),\\n            nn.Conv2d(in_channels=128, out_channels=128, kernel_size=3, padding=1),\\n            nn.ReLU(),\\n            nn.BatchNorm2d(128),\\n            nn.MaxPool2d(2),\\n            # conv4\\n            nn.Conv2d(in_channels=128, out_channels=256, kernel_size=3, padding=1),\\n            nn.ReLU(),\\n            nn.BatchNorm2d(256),\\n            nn.Conv2d(in_channels=256, out_channels=256, kernel_size=3, padding=1),\\n            nn.ReLU(),\\n            nn.BatchNorm2d(256),\\n            nn.MaxPool2d(2),\\n        )\\n\\n        self.dense_layers = nn.Sequential(\\n            nn.Dropout(0.4),\\n            nn.Linear(50176, 1024),\\n            nn.ReLU(),\\n            nn.Dropout(0.4),\\n            nn.Linear(1024, K),\\n        )\\n\\n    def forward(self, X):\\n        out = self.conv_layers(X)\\n\\n        # Flatten\\n        out = out.view(-1, 50176)\\n\\n        # Fully connected\\n        out = self.dense_layers(out)\\n\\n        return out\";\n",
       "                var nbb_formatted_code = \"class CNN(nn.Module):\\n    def __init__(self, K):\\n        super(CNN, self).__init__()\\n        self.conv_layers = nn.Sequential(\\n            # conv1\\n            nn.Conv2d(in_channels=3, out_channels=32, kernel_size=3, padding=1),\\n            nn.ReLU(),\\n            nn.BatchNorm2d(32),\\n            nn.Conv2d(in_channels=32, out_channels=32, kernel_size=3, padding=1),\\n            nn.ReLU(),\\n            nn.BatchNorm2d(32),\\n            nn.MaxPool2d(2),\\n            # conv2\\n            nn.Conv2d(in_channels=32, out_channels=64, kernel_size=3, padding=1),\\n            nn.ReLU(),\\n            nn.BatchNorm2d(64),\\n            nn.Conv2d(in_channels=64, out_channels=64, kernel_size=3, padding=1),\\n            nn.ReLU(),\\n            nn.BatchNorm2d(64),\\n            nn.MaxPool2d(2),\\n            # conv3\\n            nn.Conv2d(in_channels=64, out_channels=128, kernel_size=3, padding=1),\\n            nn.ReLU(),\\n            nn.BatchNorm2d(128),\\n            nn.Conv2d(in_channels=128, out_channels=128, kernel_size=3, padding=1),\\n            nn.ReLU(),\\n            nn.BatchNorm2d(128),\\n            nn.MaxPool2d(2),\\n            # conv4\\n            nn.Conv2d(in_channels=128, out_channels=256, kernel_size=3, padding=1),\\n            nn.ReLU(),\\n            nn.BatchNorm2d(256),\\n            nn.Conv2d(in_channels=256, out_channels=256, kernel_size=3, padding=1),\\n            nn.ReLU(),\\n            nn.BatchNorm2d(256),\\n            nn.MaxPool2d(2),\\n        )\\n\\n        self.dense_layers = nn.Sequential(\\n            nn.Dropout(0.4),\\n            nn.Linear(50176, 1024),\\n            nn.ReLU(),\\n            nn.Dropout(0.4),\\n            nn.Linear(1024, K),\\n        )\\n\\n    def forward(self, X):\\n        out = self.conv_layers(X)\\n\\n        # Flatten\\n        out = out.view(-1, 50176)\\n\\n        # Fully connected\\n        out = self.dense_layers(out)\\n\\n        return out\";\n",
       "                var nbb_cells = Jupyter.notebook.get_cells();\n",
       "                for (var i = 0; i < nbb_cells.length; ++i) {\n",
       "                    if (nbb_cells[i].input_prompt_number == nbb_cell_id) {\n",
       "                        if (nbb_cells[i].get_text() == nbb_unformatted_code) {\n",
       "                             nbb_cells[i].set_text(nbb_formatted_code);\n",
       "                        }\n",
       "                        break;\n",
       "                    }\n",
       "                }\n",
       "            }, 500);\n",
       "            "
      ],
      "text/plain": [
       "<IPython.core.display.Javascript object>"
      ]
     },
     "metadata": {},
     "output_type": "display_data"
    }
   ],
   "source": [
    "class CNN(nn.Module):\n",
    "    def __init__(self, K):\n",
    "        super(CNN, self).__init__()\n",
    "        self.conv_layers = nn.Sequential(\n",
    "            # conv1\n",
    "            nn.Conv2d(in_channels=3, out_channels=32, kernel_size=3, padding=1),\n",
    "            nn.ReLU(),\n",
    "            nn.BatchNorm2d(32),\n",
    "            nn.Conv2d(in_channels=32, out_channels=32, kernel_size=3, padding=1),\n",
    "            nn.ReLU(),\n",
    "            nn.BatchNorm2d(32),\n",
    "            nn.MaxPool2d(2),\n",
    "            # conv2\n",
    "            nn.Conv2d(in_channels=32, out_channels=64, kernel_size=3, padding=1),\n",
    "            nn.ReLU(),\n",
    "            nn.BatchNorm2d(64),\n",
    "            nn.Conv2d(in_channels=64, out_channels=64, kernel_size=3, padding=1),\n",
    "            nn.ReLU(),\n",
    "            nn.BatchNorm2d(64),\n",
    "            nn.MaxPool2d(2),\n",
    "            # conv3\n",
    "            nn.Conv2d(in_channels=64, out_channels=128, kernel_size=3, padding=1),\n",
    "            nn.ReLU(),\n",
    "            nn.BatchNorm2d(128),\n",
    "            nn.Conv2d(in_channels=128, out_channels=128, kernel_size=3, padding=1),\n",
    "            nn.ReLU(),\n",
    "            nn.BatchNorm2d(128),\n",
    "            nn.MaxPool2d(2),\n",
    "            # conv4\n",
    "            nn.Conv2d(in_channels=128, out_channels=256, kernel_size=3, padding=1),\n",
    "            nn.ReLU(),\n",
    "            nn.BatchNorm2d(256),\n",
    "            nn.Conv2d(in_channels=256, out_channels=256, kernel_size=3, padding=1),\n",
    "            nn.ReLU(),\n",
    "            nn.BatchNorm2d(256),\n",
    "            nn.MaxPool2d(2),\n",
    "        )\n",
    "\n",
    "        self.dense_layers = nn.Sequential(\n",
    "            nn.Dropout(0.4),\n",
    "            nn.Linear(50176, 1024),\n",
    "            nn.ReLU(),\n",
    "            nn.Dropout(0.4),\n",
    "            nn.Linear(1024, K),\n",
    "        )\n",
    "\n",
    "    def forward(self, X):\n",
    "        out = self.conv_layers(X)\n",
    "\n",
    "        # Flatten\n",
    "        out = out.view(-1, 50176)\n",
    "\n",
    "        # Fully connected\n",
    "        out = self.dense_layers(out)\n",
    "\n",
    "        return out"
   ]
  },
  {
   "cell_type": "code",
   "execution_count": 68,
   "id": "1ccd4abf",
   "metadata": {},
   "outputs": [
    {
     "name": "stdout",
     "output_type": "stream",
     "text": [
      "cuda\n"
     ]
    },
    {
     "data": {
      "application/javascript": [
       "\n",
       "            setTimeout(function() {\n",
       "                var nbb_cell_id = 68;\n",
       "                var nbb_unformatted_code = \"device = torch.device(\\\"cuda\\\" if torch.cuda.is_available() else \\\"cpu\\\")\\nprint(device)\";\n",
       "                var nbb_formatted_code = \"device = torch.device(\\\"cuda\\\" if torch.cuda.is_available() else \\\"cpu\\\")\\nprint(device)\";\n",
       "                var nbb_cells = Jupyter.notebook.get_cells();\n",
       "                for (var i = 0; i < nbb_cells.length; ++i) {\n",
       "                    if (nbb_cells[i].input_prompt_number == nbb_cell_id) {\n",
       "                        if (nbb_cells[i].get_text() == nbb_unformatted_code) {\n",
       "                             nbb_cells[i].set_text(nbb_formatted_code);\n",
       "                        }\n",
       "                        break;\n",
       "                    }\n",
       "                }\n",
       "            }, 500);\n",
       "            "
      ],
      "text/plain": [
       "<IPython.core.display.Javascript object>"
      ]
     },
     "metadata": {},
     "output_type": "display_data"
    }
   ],
   "source": [
    "device = torch.device(\"cuda\" if torch.cuda.is_available() else \"cpu\")\n",
    "print(device)"
   ]
  },
  {
   "cell_type": "code",
   "execution_count": 69,
   "id": "c60fc959",
   "metadata": {},
   "outputs": [
    {
     "data": {
      "application/javascript": [
       "\n",
       "            setTimeout(function() {\n",
       "                var nbb_cell_id = 69;\n",
       "                var nbb_unformatted_code = \"# device = \\\"cpu\\\"\";\n",
       "                var nbb_formatted_code = \"# device = \\\"cpu\\\"\";\n",
       "                var nbb_cells = Jupyter.notebook.get_cells();\n",
       "                for (var i = 0; i < nbb_cells.length; ++i) {\n",
       "                    if (nbb_cells[i].input_prompt_number == nbb_cell_id) {\n",
       "                        if (nbb_cells[i].get_text() == nbb_unformatted_code) {\n",
       "                             nbb_cells[i].set_text(nbb_formatted_code);\n",
       "                        }\n",
       "                        break;\n",
       "                    }\n",
       "                }\n",
       "            }, 500);\n",
       "            "
      ],
      "text/plain": [
       "<IPython.core.display.Javascript object>"
      ]
     },
     "metadata": {},
     "output_type": "display_data"
    }
   ],
   "source": [
    "# device = \"cpu\""
   ]
  },
  {
   "cell_type": "code",
   "execution_count": 70,
   "id": "ed7b81b2",
   "metadata": {},
   "outputs": [
    {
     "data": {
      "application/javascript": [
       "\n",
       "            setTimeout(function() {\n",
       "                var nbb_cell_id = 70;\n",
       "                var nbb_unformatted_code = \"model = CNN(targets_size)\";\n",
       "                var nbb_formatted_code = \"model = CNN(targets_size)\";\n",
       "                var nbb_cells = Jupyter.notebook.get_cells();\n",
       "                for (var i = 0; i < nbb_cells.length; ++i) {\n",
       "                    if (nbb_cells[i].input_prompt_number == nbb_cell_id) {\n",
       "                        if (nbb_cells[i].get_text() == nbb_unformatted_code) {\n",
       "                             nbb_cells[i].set_text(nbb_formatted_code);\n",
       "                        }\n",
       "                        break;\n",
       "                    }\n",
       "                }\n",
       "            }, 500);\n",
       "            "
      ],
      "text/plain": [
       "<IPython.core.display.Javascript object>"
      ]
     },
     "metadata": {},
     "output_type": "display_data"
    }
   ],
   "source": [
    "model = CNN(targets_size)"
   ]
  },
  {
   "cell_type": "code",
   "execution_count": 71,
   "id": "5a9698a5",
   "metadata": {},
   "outputs": [
    {
     "data": {
      "text/plain": [
       "CNN(\n",
       "  (conv_layers): Sequential(\n",
       "    (0): Conv2d(3, 32, kernel_size=(3, 3), stride=(1, 1), padding=(1, 1))\n",
       "    (1): ReLU()\n",
       "    (2): BatchNorm2d(32, eps=1e-05, momentum=0.1, affine=True, track_running_stats=True)\n",
       "    (3): Conv2d(32, 32, kernel_size=(3, 3), stride=(1, 1), padding=(1, 1))\n",
       "    (4): ReLU()\n",
       "    (5): BatchNorm2d(32, eps=1e-05, momentum=0.1, affine=True, track_running_stats=True)\n",
       "    (6): MaxPool2d(kernel_size=2, stride=2, padding=0, dilation=1, ceil_mode=False)\n",
       "    (7): Conv2d(32, 64, kernel_size=(3, 3), stride=(1, 1), padding=(1, 1))\n",
       "    (8): ReLU()\n",
       "    (9): BatchNorm2d(64, eps=1e-05, momentum=0.1, affine=True, track_running_stats=True)\n",
       "    (10): Conv2d(64, 64, kernel_size=(3, 3), stride=(1, 1), padding=(1, 1))\n",
       "    (11): ReLU()\n",
       "    (12): BatchNorm2d(64, eps=1e-05, momentum=0.1, affine=True, track_running_stats=True)\n",
       "    (13): MaxPool2d(kernel_size=2, stride=2, padding=0, dilation=1, ceil_mode=False)\n",
       "    (14): Conv2d(64, 128, kernel_size=(3, 3), stride=(1, 1), padding=(1, 1))\n",
       "    (15): ReLU()\n",
       "    (16): BatchNorm2d(128, eps=1e-05, momentum=0.1, affine=True, track_running_stats=True)\n",
       "    (17): Conv2d(128, 128, kernel_size=(3, 3), stride=(1, 1), padding=(1, 1))\n",
       "    (18): ReLU()\n",
       "    (19): BatchNorm2d(128, eps=1e-05, momentum=0.1, affine=True, track_running_stats=True)\n",
       "    (20): MaxPool2d(kernel_size=2, stride=2, padding=0, dilation=1, ceil_mode=False)\n",
       "    (21): Conv2d(128, 256, kernel_size=(3, 3), stride=(1, 1), padding=(1, 1))\n",
       "    (22): ReLU()\n",
       "    (23): BatchNorm2d(256, eps=1e-05, momentum=0.1, affine=True, track_running_stats=True)\n",
       "    (24): Conv2d(256, 256, kernel_size=(3, 3), stride=(1, 1), padding=(1, 1))\n",
       "    (25): ReLU()\n",
       "    (26): BatchNorm2d(256, eps=1e-05, momentum=0.1, affine=True, track_running_stats=True)\n",
       "    (27): MaxPool2d(kernel_size=2, stride=2, padding=0, dilation=1, ceil_mode=False)\n",
       "  )\n",
       "  (dense_layers): Sequential(\n",
       "    (0): Dropout(p=0.4, inplace=False)\n",
       "    (1): Linear(in_features=50176, out_features=1024, bias=True)\n",
       "    (2): ReLU()\n",
       "    (3): Dropout(p=0.4, inplace=False)\n",
       "    (4): Linear(in_features=1024, out_features=39, bias=True)\n",
       "  )\n",
       ")"
      ]
     },
     "execution_count": 71,
     "metadata": {},
     "output_type": "execute_result"
    },
    {
     "data": {
      "application/javascript": [
       "\n",
       "            setTimeout(function() {\n",
       "                var nbb_cell_id = 71;\n",
       "                var nbb_unformatted_code = \"model.to(device)\";\n",
       "                var nbb_formatted_code = \"model.to(device)\";\n",
       "                var nbb_cells = Jupyter.notebook.get_cells();\n",
       "                for (var i = 0; i < nbb_cells.length; ++i) {\n",
       "                    if (nbb_cells[i].input_prompt_number == nbb_cell_id) {\n",
       "                        if (nbb_cells[i].get_text() == nbb_unformatted_code) {\n",
       "                             nbb_cells[i].set_text(nbb_formatted_code);\n",
       "                        }\n",
       "                        break;\n",
       "                    }\n",
       "                }\n",
       "            }, 500);\n",
       "            "
      ],
      "text/plain": [
       "<IPython.core.display.Javascript object>"
      ]
     },
     "metadata": {},
     "output_type": "display_data"
    }
   ],
   "source": [
    "model.to(device)"
   ]
  },
  {
   "cell_type": "code",
   "execution_count": 72,
   "id": "0480349c",
   "metadata": {},
   "outputs": [
    {
     "name": "stdout",
     "output_type": "stream",
     "text": [
      "----------------------------------------------------------------\n",
      "        Layer (type)               Output Shape         Param #\n",
      "================================================================\n",
      "            Conv2d-1         [-1, 32, 224, 224]             896\n",
      "              ReLU-2         [-1, 32, 224, 224]               0\n",
      "       BatchNorm2d-3         [-1, 32, 224, 224]              64\n",
      "            Conv2d-4         [-1, 32, 224, 224]           9,248\n",
      "              ReLU-5         [-1, 32, 224, 224]               0\n",
      "       BatchNorm2d-6         [-1, 32, 224, 224]              64\n",
      "         MaxPool2d-7         [-1, 32, 112, 112]               0\n",
      "            Conv2d-8         [-1, 64, 112, 112]          18,496\n",
      "              ReLU-9         [-1, 64, 112, 112]               0\n",
      "      BatchNorm2d-10         [-1, 64, 112, 112]             128\n",
      "           Conv2d-11         [-1, 64, 112, 112]          36,928\n",
      "             ReLU-12         [-1, 64, 112, 112]               0\n",
      "      BatchNorm2d-13         [-1, 64, 112, 112]             128\n",
      "        MaxPool2d-14           [-1, 64, 56, 56]               0\n",
      "           Conv2d-15          [-1, 128, 56, 56]          73,856\n",
      "             ReLU-16          [-1, 128, 56, 56]               0\n",
      "      BatchNorm2d-17          [-1, 128, 56, 56]             256\n",
      "           Conv2d-18          [-1, 128, 56, 56]         147,584\n",
      "             ReLU-19          [-1, 128, 56, 56]               0\n",
      "      BatchNorm2d-20          [-1, 128, 56, 56]             256\n",
      "        MaxPool2d-21          [-1, 128, 28, 28]               0\n",
      "           Conv2d-22          [-1, 256, 28, 28]         295,168\n",
      "             ReLU-23          [-1, 256, 28, 28]               0\n",
      "      BatchNorm2d-24          [-1, 256, 28, 28]             512\n",
      "           Conv2d-25          [-1, 256, 28, 28]         590,080\n",
      "             ReLU-26          [-1, 256, 28, 28]               0\n",
      "      BatchNorm2d-27          [-1, 256, 28, 28]             512\n",
      "        MaxPool2d-28          [-1, 256, 14, 14]               0\n",
      "          Dropout-29                [-1, 50176]               0\n",
      "           Linear-30                 [-1, 1024]      51,381,248\n",
      "             ReLU-31                 [-1, 1024]               0\n",
      "          Dropout-32                 [-1, 1024]               0\n",
      "           Linear-33                   [-1, 39]          39,975\n",
      "================================================================\n",
      "Total params: 52,595,399\n",
      "Trainable params: 52,595,399\n",
      "Non-trainable params: 0\n",
      "----------------------------------------------------------------\n",
      "Input size (MB): 0.57\n",
      "Forward/backward pass size (MB): 143.96\n",
      "Params size (MB): 200.64\n",
      "Estimated Total Size (MB): 345.17\n",
      "----------------------------------------------------------------\n"
     ]
    },
    {
     "data": {
      "application/javascript": [
       "\n",
       "            setTimeout(function() {\n",
       "                var nbb_cell_id = 72;\n",
       "                var nbb_unformatted_code = \"from torchsummary import summary\\n\\nsummary(model, (3, 224, 224))\";\n",
       "                var nbb_formatted_code = \"from torchsummary import summary\\n\\nsummary(model, (3, 224, 224))\";\n",
       "                var nbb_cells = Jupyter.notebook.get_cells();\n",
       "                for (var i = 0; i < nbb_cells.length; ++i) {\n",
       "                    if (nbb_cells[i].input_prompt_number == nbb_cell_id) {\n",
       "                        if (nbb_cells[i].get_text() == nbb_unformatted_code) {\n",
       "                             nbb_cells[i].set_text(nbb_formatted_code);\n",
       "                        }\n",
       "                        break;\n",
       "                    }\n",
       "                }\n",
       "            }, 500);\n",
       "            "
      ],
      "text/plain": [
       "<IPython.core.display.Javascript object>"
      ]
     },
     "metadata": {},
     "output_type": "display_data"
    }
   ],
   "source": [
    "from torchsummary import summary\n",
    "\n",
    "summary(model, (3, 224, 224))"
   ]
  },
  {
   "cell_type": "code",
   "execution_count": 73,
   "id": "71cd99c7",
   "metadata": {},
   "outputs": [
    {
     "data": {
      "application/javascript": [
       "\n",
       "            setTimeout(function() {\n",
       "                var nbb_cell_id = 73;\n",
       "                var nbb_unformatted_code = \"criterion = nn.CrossEntropyLoss()  # this include softmax + cross entropy loss\\noptimizer = torch.optim.Adam(model.parameters())\";\n",
       "                var nbb_formatted_code = \"criterion = nn.CrossEntropyLoss()  # this include softmax + cross entropy loss\\noptimizer = torch.optim.Adam(model.parameters())\";\n",
       "                var nbb_cells = Jupyter.notebook.get_cells();\n",
       "                for (var i = 0; i < nbb_cells.length; ++i) {\n",
       "                    if (nbb_cells[i].input_prompt_number == nbb_cell_id) {\n",
       "                        if (nbb_cells[i].get_text() == nbb_unformatted_code) {\n",
       "                             nbb_cells[i].set_text(nbb_formatted_code);\n",
       "                        }\n",
       "                        break;\n",
       "                    }\n",
       "                }\n",
       "            }, 500);\n",
       "            "
      ],
      "text/plain": [
       "<IPython.core.display.Javascript object>"
      ]
     },
     "metadata": {},
     "output_type": "display_data"
    }
   ],
   "source": [
    "criterion = nn.CrossEntropyLoss()  # this include softmax + cross entropy loss\n",
    "optimizer = torch.optim.Adam(model.parameters())"
   ]
  },
  {
   "cell_type": "code",
   "execution_count": 74,
   "id": "14afdcf1",
   "metadata": {},
   "outputs": [
    {
     "data": {
      "application/javascript": [
       "\n",
       "            setTimeout(function() {\n",
       "                var nbb_cell_id = 74;\n",
       "                var nbb_unformatted_code = \"def batch_gd(model, criterion, train_loader, test_laoder, epochs):\\n    train_losses = np.zeros(epochs)\\n    test_losses = np.zeros(epochs)\\n\\n    for e in range(epochs):\\n        t0 = datetime.now()\\n        train_loss = []\\n        for inputs, targets in train_loader:\\n            inputs, targets = inputs.to(device), targets.to(device)\\n\\n            optimizer.zero_grad()\\n\\n            output = model(inputs)\\n\\n            loss = criterion(output, targets)\\n\\n            train_loss.append(loss.item())  # torch to numpy world\\n\\n            loss.backward()\\n            optimizer.step()\\n\\n        train_loss = np.mean(train_loss)\\n\\n        validation_loss = []\\n\\n        for inputs, targets in validation_loader:\\n\\n            inputs, targets = inputs.to(device), targets.to(device)\\n\\n            output = model(inputs)\\n\\n            loss = criterion(output, targets)\\n\\n            validation_loss.append(loss.item())  # torch to numpy world\\n\\n        validation_loss = np.mean(validation_loss)\\n\\n        train_losses[e] = train_loss\\n        validation_losses[e] = validation_loss\\n\\n        dt = datetime.now() - t0\\n\\n        print(\\n            f\\\"Epoch : {e+1}/{epochs} Train_loss:{train_loss:.3f} Test_loss:{validation_loss:.3f} Duration:{dt}\\\"\\n        )\\n\\n    return train_losses, validation_losses\";\n",
       "                var nbb_formatted_code = \"def batch_gd(model, criterion, train_loader, test_laoder, epochs):\\n    train_losses = np.zeros(epochs)\\n    test_losses = np.zeros(epochs)\\n\\n    for e in range(epochs):\\n        t0 = datetime.now()\\n        train_loss = []\\n        for inputs, targets in train_loader:\\n            inputs, targets = inputs.to(device), targets.to(device)\\n\\n            optimizer.zero_grad()\\n\\n            output = model(inputs)\\n\\n            loss = criterion(output, targets)\\n\\n            train_loss.append(loss.item())  # torch to numpy world\\n\\n            loss.backward()\\n            optimizer.step()\\n\\n        train_loss = np.mean(train_loss)\\n\\n        validation_loss = []\\n\\n        for inputs, targets in validation_loader:\\n\\n            inputs, targets = inputs.to(device), targets.to(device)\\n\\n            output = model(inputs)\\n\\n            loss = criterion(output, targets)\\n\\n            validation_loss.append(loss.item())  # torch to numpy world\\n\\n        validation_loss = np.mean(validation_loss)\\n\\n        train_losses[e] = train_loss\\n        validation_losses[e] = validation_loss\\n\\n        dt = datetime.now() - t0\\n\\n        print(\\n            f\\\"Epoch : {e+1}/{epochs} Train_loss:{train_loss:.3f} Test_loss:{validation_loss:.3f} Duration:{dt}\\\"\\n        )\\n\\n    return train_losses, validation_losses\";\n",
       "                var nbb_cells = Jupyter.notebook.get_cells();\n",
       "                for (var i = 0; i < nbb_cells.length; ++i) {\n",
       "                    if (nbb_cells[i].input_prompt_number == nbb_cell_id) {\n",
       "                        if (nbb_cells[i].get_text() == nbb_unformatted_code) {\n",
       "                             nbb_cells[i].set_text(nbb_formatted_code);\n",
       "                        }\n",
       "                        break;\n",
       "                    }\n",
       "                }\n",
       "            }, 500);\n",
       "            "
      ],
      "text/plain": [
       "<IPython.core.display.Javascript object>"
      ]
     },
     "metadata": {},
     "output_type": "display_data"
    }
   ],
   "source": [
    "def batch_gd(model, criterion, train_loader, test_laoder, epochs):\n",
    "    train_losses = np.zeros(epochs)\n",
    "    test_losses = np.zeros(epochs)\n",
    "\n",
    "    for e in range(epochs):\n",
    "        t0 = datetime.now()\n",
    "        train_loss = []\n",
    "        for inputs, targets in train_loader:\n",
    "            inputs, targets = inputs.to(device), targets.to(device)\n",
    "\n",
    "            optimizer.zero_grad()\n",
    "\n",
    "            output = model(inputs)\n",
    "\n",
    "            loss = criterion(output, targets)\n",
    "\n",
    "            train_loss.append(loss.item())  # torch to numpy world\n",
    "\n",
    "            loss.backward()\n",
    "            optimizer.step()\n",
    "\n",
    "        train_loss = np.mean(train_loss)\n",
    "\n",
    "        validation_loss = []\n",
    "\n",
    "        for inputs, targets in validation_loader:\n",
    "\n",
    "            inputs, targets = inputs.to(device), targets.to(device)\n",
    "\n",
    "            output = model(inputs)\n",
    "\n",
    "            loss = criterion(output, targets)\n",
    "\n",
    "            validation_loss.append(loss.item())  # torch to numpy world\n",
    "\n",
    "        validation_loss = np.mean(validation_loss)\n",
    "\n",
    "        train_losses[e] = train_loss\n",
    "        validation_losses[e] = validation_loss\n",
    "\n",
    "        dt = datetime.now() - t0\n",
    "\n",
    "        print(\n",
    "            f\"Epoch : {e+1}/{epochs} Train_loss:{train_loss:.3f} Test_loss:{validation_loss:.3f} Duration:{dt}\"\n",
    "        )\n",
    "\n",
    "    return train_losses, validation_losses\n"
   ]
  },
  {
   "cell_type": "code",
   "execution_count": 75,
   "id": "e25e53fc",
   "metadata": {},
   "outputs": [
    {
     "data": {
      "application/javascript": [
       "\n",
       "            setTimeout(function() {\n",
       "                var nbb_cell_id = 75;\n",
       "                var nbb_unformatted_code = \"device = \\\"cpu\\\"\";\n",
       "                var nbb_formatted_code = \"device = \\\"cpu\\\"\";\n",
       "                var nbb_cells = Jupyter.notebook.get_cells();\n",
       "                for (var i = 0; i < nbb_cells.length; ++i) {\n",
       "                    if (nbb_cells[i].input_prompt_number == nbb_cell_id) {\n",
       "                        if (nbb_cells[i].get_text() == nbb_unformatted_code) {\n",
       "                             nbb_cells[i].set_text(nbb_formatted_code);\n",
       "                        }\n",
       "                        break;\n",
       "                    }\n",
       "                }\n",
       "            }, 500);\n",
       "            "
      ],
      "text/plain": [
       "<IPython.core.display.Javascript object>"
      ]
     },
     "metadata": {},
     "output_type": "display_data"
    }
   ],
   "source": [
    "device = \"cpu\""
   ]
  },
  {
   "cell_type": "code",
   "execution_count": 76,
   "id": "0b67aa23",
   "metadata": {},
   "outputs": [
    {
     "data": {
      "application/javascript": [
       "\n",
       "            setTimeout(function() {\n",
       "                var nbb_cell_id = 76;\n",
       "                var nbb_unformatted_code = \"batch_size = 5\\ntrain_loader = torch.utils.data.DataLoader(\\n    dataset, batch_size=batch_size, sampler=train_sampler\\n)\\ntest_loader = torch.utils.data.DataLoader(\\n    dataset, batch_size=batch_size, sampler=test_sampler\\n)\\nvalidation_loader = torch.utils.data.DataLoader(\\n    dataset, batch_size=batch_size, sampler=validation_sampler\\n)\";\n",
       "                var nbb_formatted_code = \"batch_size = 5\\ntrain_loader = torch.utils.data.DataLoader(\\n    dataset, batch_size=batch_size, sampler=train_sampler\\n)\\ntest_loader = torch.utils.data.DataLoader(\\n    dataset, batch_size=batch_size, sampler=test_sampler\\n)\\nvalidation_loader = torch.utils.data.DataLoader(\\n    dataset, batch_size=batch_size, sampler=validation_sampler\\n)\";\n",
       "                var nbb_cells = Jupyter.notebook.get_cells();\n",
       "                for (var i = 0; i < nbb_cells.length; ++i) {\n",
       "                    if (nbb_cells[i].input_prompt_number == nbb_cell_id) {\n",
       "                        if (nbb_cells[i].get_text() == nbb_unformatted_code) {\n",
       "                             nbb_cells[i].set_text(nbb_formatted_code);\n",
       "                        }\n",
       "                        break;\n",
       "                    }\n",
       "                }\n",
       "            }, 500);\n",
       "            "
      ],
      "text/plain": [
       "<IPython.core.display.Javascript object>"
      ]
     },
     "metadata": {},
     "output_type": "display_data"
    }
   ],
   "source": [
    "batch_size = 5\n",
    "train_loader = torch.utils.data.DataLoader(\n",
    "    dataset, batch_size=batch_size, sampler=train_sampler\n",
    ")\n",
    "test_loader = torch.utils.data.DataLoader(\n",
    "    dataset, batch_size=batch_size, sampler=test_sampler\n",
    ")\n",
    "validation_loader = torch.utils.data.DataLoader(\n",
    "    dataset, batch_size=batch_size, sampler=validation_sampler\n",
    ")"
   ]
  },
  {
   "cell_type": "code",
   "execution_count": 110,
   "id": "ca3371da",
   "metadata": {},
   "outputs": [
    {
     "data": {
      "application/javascript": [
       "\n",
       "            setTimeout(function() {\n",
       "                var nbb_cell_id = 110;\n",
       "                var nbb_unformatted_code = \"train_losses, validation_losses = batch_gd(\\n    model, criterion, train_loader, validation_loader, 0\\n)\\ntrain_losses = [10, 11, 12, 13, 14]\\nvalidation_losses = [1, 2, 3, 4, 5]\";\n",
       "                var nbb_formatted_code = \"train_losses, validation_losses = batch_gd(\\n    model, criterion, train_loader, validation_loader, 0\\n)\\ntrain_losses = [10, 11, 12, 13, 14]\\nvalidation_losses = [1, 2, 3, 4, 5]\";\n",
       "                var nbb_cells = Jupyter.notebook.get_cells();\n",
       "                for (var i = 0; i < nbb_cells.length; ++i) {\n",
       "                    if (nbb_cells[i].input_prompt_number == nbb_cell_id) {\n",
       "                        if (nbb_cells[i].get_text() == nbb_unformatted_code) {\n",
       "                             nbb_cells[i].set_text(nbb_formatted_code);\n",
       "                        }\n",
       "                        break;\n",
       "                    }\n",
       "                }\n",
       "            }, 500);\n",
       "            "
      ],
      "text/plain": [
       "<IPython.core.display.Javascript object>"
      ]
     },
     "metadata": {},
     "output_type": "display_data"
    }
   ],
   "source": [
    "train_losses, validation_losses = batch_gd(\n",
    "    model, criterion, train_loader, validation_loader, 0\n",
    ")\n",
    "train_losses = [10, 11, 12, 13, 14]\n",
    "validation_losses = [1, 2, 3, 4, 5]"
   ]
  },
  {
   "cell_type": "code",
   "execution_count": 111,
   "id": "cd982ff8",
   "metadata": {},
   "outputs": [
    {
     "data": {
      "application/javascript": [
       "\n",
       "            setTimeout(function() {\n",
       "                var nbb_cell_id = 111;\n",
       "                var nbb_unformatted_code = \"torch.save(model.state_dict(), \\\"plant_disease_model_1.pt\\\")\";\n",
       "                var nbb_formatted_code = \"torch.save(model.state_dict(), \\\"plant_disease_model_1.pt\\\")\";\n",
       "                var nbb_cells = Jupyter.notebook.get_cells();\n",
       "                for (var i = 0; i < nbb_cells.length; ++i) {\n",
       "                    if (nbb_cells[i].input_prompt_number == nbb_cell_id) {\n",
       "                        if (nbb_cells[i].get_text() == nbb_unformatted_code) {\n",
       "                             nbb_cells[i].set_text(nbb_formatted_code);\n",
       "                        }\n",
       "                        break;\n",
       "                    }\n",
       "                }\n",
       "            }, 500);\n",
       "            "
      ],
      "text/plain": [
       "<IPython.core.display.Javascript object>"
      ]
     },
     "metadata": {},
     "output_type": "display_data"
    }
   ],
   "source": [
    "torch.save(model.state_dict(), \"plant_disease_model_1.pt\")"
   ]
  },
  {
   "cell_type": "code",
   "execution_count": 112,
   "id": "e2eff98b",
   "metadata": {},
   "outputs": [
    {
     "data": {
      "text/plain": [
       "CNN(\n",
       "  (conv_layers): Sequential(\n",
       "    (0): Conv2d(3, 32, kernel_size=(3, 3), stride=(1, 1), padding=(1, 1))\n",
       "    (1): ReLU()\n",
       "    (2): BatchNorm2d(32, eps=1e-05, momentum=0.1, affine=True, track_running_stats=True)\n",
       "    (3): Conv2d(32, 32, kernel_size=(3, 3), stride=(1, 1), padding=(1, 1))\n",
       "    (4): ReLU()\n",
       "    (5): BatchNorm2d(32, eps=1e-05, momentum=0.1, affine=True, track_running_stats=True)\n",
       "    (6): MaxPool2d(kernel_size=2, stride=2, padding=0, dilation=1, ceil_mode=False)\n",
       "    (7): Conv2d(32, 64, kernel_size=(3, 3), stride=(1, 1), padding=(1, 1))\n",
       "    (8): ReLU()\n",
       "    (9): BatchNorm2d(64, eps=1e-05, momentum=0.1, affine=True, track_running_stats=True)\n",
       "    (10): Conv2d(64, 64, kernel_size=(3, 3), stride=(1, 1), padding=(1, 1))\n",
       "    (11): ReLU()\n",
       "    (12): BatchNorm2d(64, eps=1e-05, momentum=0.1, affine=True, track_running_stats=True)\n",
       "    (13): MaxPool2d(kernel_size=2, stride=2, padding=0, dilation=1, ceil_mode=False)\n",
       "    (14): Conv2d(64, 128, kernel_size=(3, 3), stride=(1, 1), padding=(1, 1))\n",
       "    (15): ReLU()\n",
       "    (16): BatchNorm2d(128, eps=1e-05, momentum=0.1, affine=True, track_running_stats=True)\n",
       "    (17): Conv2d(128, 128, kernel_size=(3, 3), stride=(1, 1), padding=(1, 1))\n",
       "    (18): ReLU()\n",
       "    (19): BatchNorm2d(128, eps=1e-05, momentum=0.1, affine=True, track_running_stats=True)\n",
       "    (20): MaxPool2d(kernel_size=2, stride=2, padding=0, dilation=1, ceil_mode=False)\n",
       "    (21): Conv2d(128, 256, kernel_size=(3, 3), stride=(1, 1), padding=(1, 1))\n",
       "    (22): ReLU()\n",
       "    (23): BatchNorm2d(256, eps=1e-05, momentum=0.1, affine=True, track_running_stats=True)\n",
       "    (24): Conv2d(256, 256, kernel_size=(3, 3), stride=(1, 1), padding=(1, 1))\n",
       "    (25): ReLU()\n",
       "    (26): BatchNorm2d(256, eps=1e-05, momentum=0.1, affine=True, track_running_stats=True)\n",
       "    (27): MaxPool2d(kernel_size=2, stride=2, padding=0, dilation=1, ceil_mode=False)\n",
       "  )\n",
       "  (dense_layers): Sequential(\n",
       "    (0): Dropout(p=0.4, inplace=False)\n",
       "    (1): Linear(in_features=50176, out_features=1024, bias=True)\n",
       "    (2): ReLU()\n",
       "    (3): Dropout(p=0.4, inplace=False)\n",
       "    (4): Linear(in_features=1024, out_features=39, bias=True)\n",
       "  )\n",
       ")"
      ]
     },
     "execution_count": 112,
     "metadata": {},
     "output_type": "execute_result"
    },
    {
     "data": {
      "application/javascript": [
       "\n",
       "            setTimeout(function() {\n",
       "                var nbb_cell_id = 112;\n",
       "                var nbb_unformatted_code = \"targets_size = 39\\nmodel = CNN(targets_size)\\nmodel.load_state_dict(torch.load(\\\"plant_disease_model_1.pt\\\"))\\nmodel.eval()\";\n",
       "                var nbb_formatted_code = \"targets_size = 39\\nmodel = CNN(targets_size)\\nmodel.load_state_dict(torch.load(\\\"plant_disease_model_1.pt\\\"))\\nmodel.eval()\";\n",
       "                var nbb_cells = Jupyter.notebook.get_cells();\n",
       "                for (var i = 0; i < nbb_cells.length; ++i) {\n",
       "                    if (nbb_cells[i].input_prompt_number == nbb_cell_id) {\n",
       "                        if (nbb_cells[i].get_text() == nbb_unformatted_code) {\n",
       "                             nbb_cells[i].set_text(nbb_formatted_code);\n",
       "                        }\n",
       "                        break;\n",
       "                    }\n",
       "                }\n",
       "            }, 500);\n",
       "            "
      ],
      "text/plain": [
       "<IPython.core.display.Javascript object>"
      ]
     },
     "metadata": {},
     "output_type": "display_data"
    }
   ],
   "source": [
    "targets_size = 39\n",
    "model = CNN(targets_size)\n",
    "model.load_state_dict(torch.load(\"plant_disease_model_1.pt\"))\n",
    "model.eval()"
   ]
  },
  {
   "cell_type": "code",
   "execution_count": 113,
   "id": "0299dac1",
   "metadata": {},
   "outputs": [
    {
     "data": {
      "application/javascript": [
       "\n",
       "            setTimeout(function() {\n",
       "                var nbb_cell_id = 113;\n",
       "                var nbb_unformatted_code = \"import os\\n\\nos.environ[\\\"KMP_DUPLICATE_LIB_OK\\\"] = \\\"True\\\"\";\n",
       "                var nbb_formatted_code = \"import os\\n\\nos.environ[\\\"KMP_DUPLICATE_LIB_OK\\\"] = \\\"True\\\"\";\n",
       "                var nbb_cells = Jupyter.notebook.get_cells();\n",
       "                for (var i = 0; i < nbb_cells.length; ++i) {\n",
       "                    if (nbb_cells[i].input_prompt_number == nbb_cell_id) {\n",
       "                        if (nbb_cells[i].get_text() == nbb_unformatted_code) {\n",
       "                             nbb_cells[i].set_text(nbb_formatted_code);\n",
       "                        }\n",
       "                        break;\n",
       "                    }\n",
       "                }\n",
       "            }, 500);\n",
       "            "
      ],
      "text/plain": [
       "<IPython.core.display.Javascript object>"
      ]
     },
     "metadata": {},
     "output_type": "display_data"
    }
   ],
   "source": [
    "import os\n",
    "\n",
    "os.environ[\"KMP_DUPLICATE_LIB_OK\"] = \"True\""
   ]
  },
  {
   "cell_type": "code",
   "execution_count": 114,
   "id": "b7eeae6a",
   "metadata": {},
   "outputs": [
    {
     "data": {
      "application/javascript": [
       "\n",
       "            setTimeout(function() {\n",
       "                var nbb_cell_id = 114;\n",
       "                var nbb_unformatted_code = \"%matplotlib notebook\";\n",
       "                var nbb_formatted_code = \"%matplotlib notebook\";\n",
       "                var nbb_cells = Jupyter.notebook.get_cells();\n",
       "                for (var i = 0; i < nbb_cells.length; ++i) {\n",
       "                    if (nbb_cells[i].input_prompt_number == nbb_cell_id) {\n",
       "                        if (nbb_cells[i].get_text() == nbb_unformatted_code) {\n",
       "                             nbb_cells[i].set_text(nbb_formatted_code);\n",
       "                        }\n",
       "                        break;\n",
       "                    }\n",
       "                }\n",
       "            }, 500);\n",
       "            "
      ],
      "text/plain": [
       "<IPython.core.display.Javascript object>"
      ]
     },
     "metadata": {},
     "output_type": "display_data"
    }
   ],
   "source": [
    "%matplotlib notebook"
   ]
  },
  {
   "cell_type": "code",
   "execution_count": 115,
   "id": "1f029457",
   "metadata": {},
   "outputs": [
    {
     "data": {
      "application/javascript": [
       "/* Put everything inside the global mpl namespace */\n",
       "/* global mpl */\n",
       "window.mpl = {};\n",
       "\n",
       "mpl.get_websocket_type = function () {\n",
       "    if (typeof WebSocket !== 'undefined') {\n",
       "        return WebSocket;\n",
       "    } else if (typeof MozWebSocket !== 'undefined') {\n",
       "        return MozWebSocket;\n",
       "    } else {\n",
       "        alert(\n",
       "            'Your browser does not have WebSocket support. ' +\n",
       "                'Please try Chrome, Safari or Firefox ≥ 6. ' +\n",
       "                'Firefox 4 and 5 are also supported but you ' +\n",
       "                'have to enable WebSockets in about:config.'\n",
       "        );\n",
       "    }\n",
       "};\n",
       "\n",
       "mpl.figure = function (figure_id, websocket, ondownload, parent_element) {\n",
       "    this.id = figure_id;\n",
       "\n",
       "    this.ws = websocket;\n",
       "\n",
       "    this.supports_binary = this.ws.binaryType !== undefined;\n",
       "\n",
       "    if (!this.supports_binary) {\n",
       "        var warnings = document.getElementById('mpl-warnings');\n",
       "        if (warnings) {\n",
       "            warnings.style.display = 'block';\n",
       "            warnings.textContent =\n",
       "                'This browser does not support binary websocket messages. ' +\n",
       "                'Performance may be slow.';\n",
       "        }\n",
       "    }\n",
       "\n",
       "    this.imageObj = new Image();\n",
       "\n",
       "    this.context = undefined;\n",
       "    this.message = undefined;\n",
       "    this.canvas = undefined;\n",
       "    this.rubberband_canvas = undefined;\n",
       "    this.rubberband_context = undefined;\n",
       "    this.format_dropdown = undefined;\n",
       "\n",
       "    this.image_mode = 'full';\n",
       "\n",
       "    this.root = document.createElement('div');\n",
       "    this.root.setAttribute('style', 'display: inline-block');\n",
       "    this._root_extra_style(this.root);\n",
       "\n",
       "    parent_element.appendChild(this.root);\n",
       "\n",
       "    this._init_header(this);\n",
       "    this._init_canvas(this);\n",
       "    this._init_toolbar(this);\n",
       "\n",
       "    var fig = this;\n",
       "\n",
       "    this.waiting = false;\n",
       "\n",
       "    this.ws.onopen = function () {\n",
       "        fig.send_message('supports_binary', { value: fig.supports_binary });\n",
       "        fig.send_message('send_image_mode', {});\n",
       "        if (fig.ratio !== 1) {\n",
       "            fig.send_message('set_dpi_ratio', { dpi_ratio: fig.ratio });\n",
       "        }\n",
       "        fig.send_message('refresh', {});\n",
       "    };\n",
       "\n",
       "    this.imageObj.onload = function () {\n",
       "        if (fig.image_mode === 'full') {\n",
       "            // Full images could contain transparency (where diff images\n",
       "            // almost always do), so we need to clear the canvas so that\n",
       "            // there is no ghosting.\n",
       "            fig.context.clearRect(0, 0, fig.canvas.width, fig.canvas.height);\n",
       "        }\n",
       "        fig.context.drawImage(fig.imageObj, 0, 0);\n",
       "    };\n",
       "\n",
       "    this.imageObj.onunload = function () {\n",
       "        fig.ws.close();\n",
       "    };\n",
       "\n",
       "    this.ws.onmessage = this._make_on_message_function(this);\n",
       "\n",
       "    this.ondownload = ondownload;\n",
       "};\n",
       "\n",
       "mpl.figure.prototype._init_header = function () {\n",
       "    var titlebar = document.createElement('div');\n",
       "    titlebar.classList =\n",
       "        'ui-dialog-titlebar ui-widget-header ui-corner-all ui-helper-clearfix';\n",
       "    var titletext = document.createElement('div');\n",
       "    titletext.classList = 'ui-dialog-title';\n",
       "    titletext.setAttribute(\n",
       "        'style',\n",
       "        'width: 100%; text-align: center; padding: 3px;'\n",
       "    );\n",
       "    titlebar.appendChild(titletext);\n",
       "    this.root.appendChild(titlebar);\n",
       "    this.header = titletext;\n",
       "};\n",
       "\n",
       "mpl.figure.prototype._canvas_extra_style = function (_canvas_div) {};\n",
       "\n",
       "mpl.figure.prototype._root_extra_style = function (_canvas_div) {};\n",
       "\n",
       "mpl.figure.prototype._init_canvas = function () {\n",
       "    var fig = this;\n",
       "\n",
       "    var canvas_div = (this.canvas_div = document.createElement('div'));\n",
       "    canvas_div.setAttribute(\n",
       "        'style',\n",
       "        'border: 1px solid #ddd;' +\n",
       "            'box-sizing: content-box;' +\n",
       "            'clear: both;' +\n",
       "            'min-height: 1px;' +\n",
       "            'min-width: 1px;' +\n",
       "            'outline: 0;' +\n",
       "            'overflow: hidden;' +\n",
       "            'position: relative;' +\n",
       "            'resize: both;'\n",
       "    );\n",
       "\n",
       "    function on_keyboard_event_closure(name) {\n",
       "        return function (event) {\n",
       "            return fig.key_event(event, name);\n",
       "        };\n",
       "    }\n",
       "\n",
       "    canvas_div.addEventListener(\n",
       "        'keydown',\n",
       "        on_keyboard_event_closure('key_press')\n",
       "    );\n",
       "    canvas_div.addEventListener(\n",
       "        'keyup',\n",
       "        on_keyboard_event_closure('key_release')\n",
       "    );\n",
       "\n",
       "    this._canvas_extra_style(canvas_div);\n",
       "    this.root.appendChild(canvas_div);\n",
       "\n",
       "    var canvas = (this.canvas = document.createElement('canvas'));\n",
       "    canvas.classList.add('mpl-canvas');\n",
       "    canvas.setAttribute('style', 'box-sizing: content-box;');\n",
       "\n",
       "    this.context = canvas.getContext('2d');\n",
       "\n",
       "    var backingStore =\n",
       "        this.context.backingStorePixelRatio ||\n",
       "        this.context.webkitBackingStorePixelRatio ||\n",
       "        this.context.mozBackingStorePixelRatio ||\n",
       "        this.context.msBackingStorePixelRatio ||\n",
       "        this.context.oBackingStorePixelRatio ||\n",
       "        this.context.backingStorePixelRatio ||\n",
       "        1;\n",
       "\n",
       "    this.ratio = (window.devicePixelRatio || 1) / backingStore;\n",
       "\n",
       "    var rubberband_canvas = (this.rubberband_canvas = document.createElement(\n",
       "        'canvas'\n",
       "    ));\n",
       "    rubberband_canvas.setAttribute(\n",
       "        'style',\n",
       "        'box-sizing: content-box; position: absolute; left: 0; top: 0; z-index: 1;'\n",
       "    );\n",
       "\n",
       "    // Apply a ponyfill if ResizeObserver is not implemented by browser.\n",
       "    if (this.ResizeObserver === undefined) {\n",
       "        if (window.ResizeObserver !== undefined) {\n",
       "            this.ResizeObserver = window.ResizeObserver;\n",
       "        } else {\n",
       "            var obs = _JSXTOOLS_RESIZE_OBSERVER({});\n",
       "            this.ResizeObserver = obs.ResizeObserver;\n",
       "        }\n",
       "    }\n",
       "\n",
       "    this.resizeObserverInstance = new this.ResizeObserver(function (entries) {\n",
       "        var nentries = entries.length;\n",
       "        for (var i = 0; i < nentries; i++) {\n",
       "            var entry = entries[i];\n",
       "            var width, height;\n",
       "            if (entry.contentBoxSize) {\n",
       "                if (entry.contentBoxSize instanceof Array) {\n",
       "                    // Chrome 84 implements new version of spec.\n",
       "                    width = entry.contentBoxSize[0].inlineSize;\n",
       "                    height = entry.contentBoxSize[0].blockSize;\n",
       "                } else {\n",
       "                    // Firefox implements old version of spec.\n",
       "                    width = entry.contentBoxSize.inlineSize;\n",
       "                    height = entry.contentBoxSize.blockSize;\n",
       "                }\n",
       "            } else {\n",
       "                // Chrome <84 implements even older version of spec.\n",
       "                width = entry.contentRect.width;\n",
       "                height = entry.contentRect.height;\n",
       "            }\n",
       "\n",
       "            // Keep the size of the canvas and rubber band canvas in sync with\n",
       "            // the canvas container.\n",
       "            if (entry.devicePixelContentBoxSize) {\n",
       "                // Chrome 84 implements new version of spec.\n",
       "                canvas.setAttribute(\n",
       "                    'width',\n",
       "                    entry.devicePixelContentBoxSize[0].inlineSize\n",
       "                );\n",
       "                canvas.setAttribute(\n",
       "                    'height',\n",
       "                    entry.devicePixelContentBoxSize[0].blockSize\n",
       "                );\n",
       "            } else {\n",
       "                canvas.setAttribute('width', width * fig.ratio);\n",
       "                canvas.setAttribute('height', height * fig.ratio);\n",
       "            }\n",
       "            canvas.setAttribute(\n",
       "                'style',\n",
       "                'width: ' + width + 'px; height: ' + height + 'px;'\n",
       "            );\n",
       "\n",
       "            rubberband_canvas.setAttribute('width', width);\n",
       "            rubberband_canvas.setAttribute('height', height);\n",
       "\n",
       "            // And update the size in Python. We ignore the initial 0/0 size\n",
       "            // that occurs as the element is placed into the DOM, which should\n",
       "            // otherwise not happen due to the minimum size styling.\n",
       "            if (fig.ws.readyState == 1 && width != 0 && height != 0) {\n",
       "                fig.request_resize(width, height);\n",
       "            }\n",
       "        }\n",
       "    });\n",
       "    this.resizeObserverInstance.observe(canvas_div);\n",
       "\n",
       "    function on_mouse_event_closure(name) {\n",
       "        return function (event) {\n",
       "            return fig.mouse_event(event, name);\n",
       "        };\n",
       "    }\n",
       "\n",
       "    rubberband_canvas.addEventListener(\n",
       "        'mousedown',\n",
       "        on_mouse_event_closure('button_press')\n",
       "    );\n",
       "    rubberband_canvas.addEventListener(\n",
       "        'mouseup',\n",
       "        on_mouse_event_closure('button_release')\n",
       "    );\n",
       "    // Throttle sequential mouse events to 1 every 20ms.\n",
       "    rubberband_canvas.addEventListener(\n",
       "        'mousemove',\n",
       "        on_mouse_event_closure('motion_notify')\n",
       "    );\n",
       "\n",
       "    rubberband_canvas.addEventListener(\n",
       "        'mouseenter',\n",
       "        on_mouse_event_closure('figure_enter')\n",
       "    );\n",
       "    rubberband_canvas.addEventListener(\n",
       "        'mouseleave',\n",
       "        on_mouse_event_closure('figure_leave')\n",
       "    );\n",
       "\n",
       "    canvas_div.addEventListener('wheel', function (event) {\n",
       "        if (event.deltaY < 0) {\n",
       "            event.step = 1;\n",
       "        } else {\n",
       "            event.step = -1;\n",
       "        }\n",
       "        on_mouse_event_closure('scroll')(event);\n",
       "    });\n",
       "\n",
       "    canvas_div.appendChild(canvas);\n",
       "    canvas_div.appendChild(rubberband_canvas);\n",
       "\n",
       "    this.rubberband_context = rubberband_canvas.getContext('2d');\n",
       "    this.rubberband_context.strokeStyle = '#000000';\n",
       "\n",
       "    this._resize_canvas = function (width, height, forward) {\n",
       "        if (forward) {\n",
       "            canvas_div.style.width = width + 'px';\n",
       "            canvas_div.style.height = height + 'px';\n",
       "        }\n",
       "    };\n",
       "\n",
       "    // Disable right mouse context menu.\n",
       "    this.rubberband_canvas.addEventListener('contextmenu', function (_e) {\n",
       "        event.preventDefault();\n",
       "        return false;\n",
       "    });\n",
       "\n",
       "    function set_focus() {\n",
       "        canvas.focus();\n",
       "        canvas_div.focus();\n",
       "    }\n",
       "\n",
       "    window.setTimeout(set_focus, 100);\n",
       "};\n",
       "\n",
       "mpl.figure.prototype._init_toolbar = function () {\n",
       "    var fig = this;\n",
       "\n",
       "    var toolbar = document.createElement('div');\n",
       "    toolbar.classList = 'mpl-toolbar';\n",
       "    this.root.appendChild(toolbar);\n",
       "\n",
       "    function on_click_closure(name) {\n",
       "        return function (_event) {\n",
       "            return fig.toolbar_button_onclick(name);\n",
       "        };\n",
       "    }\n",
       "\n",
       "    function on_mouseover_closure(tooltip) {\n",
       "        return function (event) {\n",
       "            if (!event.currentTarget.disabled) {\n",
       "                return fig.toolbar_button_onmouseover(tooltip);\n",
       "            }\n",
       "        };\n",
       "    }\n",
       "\n",
       "    fig.buttons = {};\n",
       "    var buttonGroup = document.createElement('div');\n",
       "    buttonGroup.classList = 'mpl-button-group';\n",
       "    for (var toolbar_ind in mpl.toolbar_items) {\n",
       "        var name = mpl.toolbar_items[toolbar_ind][0];\n",
       "        var tooltip = mpl.toolbar_items[toolbar_ind][1];\n",
       "        var image = mpl.toolbar_items[toolbar_ind][2];\n",
       "        var method_name = mpl.toolbar_items[toolbar_ind][3];\n",
       "\n",
       "        if (!name) {\n",
       "            /* Instead of a spacer, we start a new button group. */\n",
       "            if (buttonGroup.hasChildNodes()) {\n",
       "                toolbar.appendChild(buttonGroup);\n",
       "            }\n",
       "            buttonGroup = document.createElement('div');\n",
       "            buttonGroup.classList = 'mpl-button-group';\n",
       "            continue;\n",
       "        }\n",
       "\n",
       "        var button = (fig.buttons[name] = document.createElement('button'));\n",
       "        button.classList = 'mpl-widget';\n",
       "        button.setAttribute('role', 'button');\n",
       "        button.setAttribute('aria-disabled', 'false');\n",
       "        button.addEventListener('click', on_click_closure(method_name));\n",
       "        button.addEventListener('mouseover', on_mouseover_closure(tooltip));\n",
       "\n",
       "        var icon_img = document.createElement('img');\n",
       "        icon_img.src = '_images/' + image + '.png';\n",
       "        icon_img.srcset = '_images/' + image + '_large.png 2x';\n",
       "        icon_img.alt = tooltip;\n",
       "        button.appendChild(icon_img);\n",
       "\n",
       "        buttonGroup.appendChild(button);\n",
       "    }\n",
       "\n",
       "    if (buttonGroup.hasChildNodes()) {\n",
       "        toolbar.appendChild(buttonGroup);\n",
       "    }\n",
       "\n",
       "    var fmt_picker = document.createElement('select');\n",
       "    fmt_picker.classList = 'mpl-widget';\n",
       "    toolbar.appendChild(fmt_picker);\n",
       "    this.format_dropdown = fmt_picker;\n",
       "\n",
       "    for (var ind in mpl.extensions) {\n",
       "        var fmt = mpl.extensions[ind];\n",
       "        var option = document.createElement('option');\n",
       "        option.selected = fmt === mpl.default_extension;\n",
       "        option.innerHTML = fmt;\n",
       "        fmt_picker.appendChild(option);\n",
       "    }\n",
       "\n",
       "    var status_bar = document.createElement('span');\n",
       "    status_bar.classList = 'mpl-message';\n",
       "    toolbar.appendChild(status_bar);\n",
       "    this.message = status_bar;\n",
       "};\n",
       "\n",
       "mpl.figure.prototype.request_resize = function (x_pixels, y_pixels) {\n",
       "    // Request matplotlib to resize the figure. Matplotlib will then trigger a resize in the client,\n",
       "    // which will in turn request a refresh of the image.\n",
       "    this.send_message('resize', { width: x_pixels, height: y_pixels });\n",
       "};\n",
       "\n",
       "mpl.figure.prototype.send_message = function (type, properties) {\n",
       "    properties['type'] = type;\n",
       "    properties['figure_id'] = this.id;\n",
       "    this.ws.send(JSON.stringify(properties));\n",
       "};\n",
       "\n",
       "mpl.figure.prototype.send_draw_message = function () {\n",
       "    if (!this.waiting) {\n",
       "        this.waiting = true;\n",
       "        this.ws.send(JSON.stringify({ type: 'draw', figure_id: this.id }));\n",
       "    }\n",
       "};\n",
       "\n",
       "mpl.figure.prototype.handle_save = function (fig, _msg) {\n",
       "    var format_dropdown = fig.format_dropdown;\n",
       "    var format = format_dropdown.options[format_dropdown.selectedIndex].value;\n",
       "    fig.ondownload(fig, format);\n",
       "};\n",
       "\n",
       "mpl.figure.prototype.handle_resize = function (fig, msg) {\n",
       "    var size = msg['size'];\n",
       "    if (size[0] !== fig.canvas.width || size[1] !== fig.canvas.height) {\n",
       "        fig._resize_canvas(size[0], size[1], msg['forward']);\n",
       "        fig.send_message('refresh', {});\n",
       "    }\n",
       "};\n",
       "\n",
       "mpl.figure.prototype.handle_rubberband = function (fig, msg) {\n",
       "    var x0 = msg['x0'] / fig.ratio;\n",
       "    var y0 = (fig.canvas.height - msg['y0']) / fig.ratio;\n",
       "    var x1 = msg['x1'] / fig.ratio;\n",
       "    var y1 = (fig.canvas.height - msg['y1']) / fig.ratio;\n",
       "    x0 = Math.floor(x0) + 0.5;\n",
       "    y0 = Math.floor(y0) + 0.5;\n",
       "    x1 = Math.floor(x1) + 0.5;\n",
       "    y1 = Math.floor(y1) + 0.5;\n",
       "    var min_x = Math.min(x0, x1);\n",
       "    var min_y = Math.min(y0, y1);\n",
       "    var width = Math.abs(x1 - x0);\n",
       "    var height = Math.abs(y1 - y0);\n",
       "\n",
       "    fig.rubberband_context.clearRect(\n",
       "        0,\n",
       "        0,\n",
       "        fig.canvas.width / fig.ratio,\n",
       "        fig.canvas.height / fig.ratio\n",
       "    );\n",
       "\n",
       "    fig.rubberband_context.strokeRect(min_x, min_y, width, height);\n",
       "};\n",
       "\n",
       "mpl.figure.prototype.handle_figure_label = function (fig, msg) {\n",
       "    // Updates the figure title.\n",
       "    fig.header.textContent = msg['label'];\n",
       "};\n",
       "\n",
       "mpl.figure.prototype.handle_cursor = function (fig, msg) {\n",
       "    var cursor = msg['cursor'];\n",
       "    switch (cursor) {\n",
       "        case 0:\n",
       "            cursor = 'pointer';\n",
       "            break;\n",
       "        case 1:\n",
       "            cursor = 'default';\n",
       "            break;\n",
       "        case 2:\n",
       "            cursor = 'crosshair';\n",
       "            break;\n",
       "        case 3:\n",
       "            cursor = 'move';\n",
       "            break;\n",
       "    }\n",
       "    fig.rubberband_canvas.style.cursor = cursor;\n",
       "};\n",
       "\n",
       "mpl.figure.prototype.handle_message = function (fig, msg) {\n",
       "    fig.message.textContent = msg['message'];\n",
       "};\n",
       "\n",
       "mpl.figure.prototype.handle_draw = function (fig, _msg) {\n",
       "    // Request the server to send over a new figure.\n",
       "    fig.send_draw_message();\n",
       "};\n",
       "\n",
       "mpl.figure.prototype.handle_image_mode = function (fig, msg) {\n",
       "    fig.image_mode = msg['mode'];\n",
       "};\n",
       "\n",
       "mpl.figure.prototype.handle_history_buttons = function (fig, msg) {\n",
       "    for (var key in msg) {\n",
       "        if (!(key in fig.buttons)) {\n",
       "            continue;\n",
       "        }\n",
       "        fig.buttons[key].disabled = !msg[key];\n",
       "        fig.buttons[key].setAttribute('aria-disabled', !msg[key]);\n",
       "    }\n",
       "};\n",
       "\n",
       "mpl.figure.prototype.handle_navigate_mode = function (fig, msg) {\n",
       "    if (msg['mode'] === 'PAN') {\n",
       "        fig.buttons['Pan'].classList.add('active');\n",
       "        fig.buttons['Zoom'].classList.remove('active');\n",
       "    } else if (msg['mode'] === 'ZOOM') {\n",
       "        fig.buttons['Pan'].classList.remove('active');\n",
       "        fig.buttons['Zoom'].classList.add('active');\n",
       "    } else {\n",
       "        fig.buttons['Pan'].classList.remove('active');\n",
       "        fig.buttons['Zoom'].classList.remove('active');\n",
       "    }\n",
       "};\n",
       "\n",
       "mpl.figure.prototype.updated_canvas_event = function () {\n",
       "    // Called whenever the canvas gets updated.\n",
       "    this.send_message('ack', {});\n",
       "};\n",
       "\n",
       "// A function to construct a web socket function for onmessage handling.\n",
       "// Called in the figure constructor.\n",
       "mpl.figure.prototype._make_on_message_function = function (fig) {\n",
       "    return function socket_on_message(evt) {\n",
       "        if (evt.data instanceof Blob) {\n",
       "            /* FIXME: We get \"Resource interpreted as Image but\n",
       "             * transferred with MIME type text/plain:\" errors on\n",
       "             * Chrome.  But how to set the MIME type?  It doesn't seem\n",
       "             * to be part of the websocket stream */\n",
       "            evt.data.type = 'image/png';\n",
       "\n",
       "            /* Free the memory for the previous frames */\n",
       "            if (fig.imageObj.src) {\n",
       "                (window.URL || window.webkitURL).revokeObjectURL(\n",
       "                    fig.imageObj.src\n",
       "                );\n",
       "            }\n",
       "\n",
       "            fig.imageObj.src = (window.URL || window.webkitURL).createObjectURL(\n",
       "                evt.data\n",
       "            );\n",
       "            fig.updated_canvas_event();\n",
       "            fig.waiting = false;\n",
       "            return;\n",
       "        } else if (\n",
       "            typeof evt.data === 'string' &&\n",
       "            evt.data.slice(0, 21) === 'data:image/png;base64'\n",
       "        ) {\n",
       "            fig.imageObj.src = evt.data;\n",
       "            fig.updated_canvas_event();\n",
       "            fig.waiting = false;\n",
       "            return;\n",
       "        }\n",
       "\n",
       "        var msg = JSON.parse(evt.data);\n",
       "        var msg_type = msg['type'];\n",
       "\n",
       "        // Call the  \"handle_{type}\" callback, which takes\n",
       "        // the figure and JSON message as its only arguments.\n",
       "        try {\n",
       "            var callback = fig['handle_' + msg_type];\n",
       "        } catch (e) {\n",
       "            console.log(\n",
       "                \"No handler for the '\" + msg_type + \"' message type: \",\n",
       "                msg\n",
       "            );\n",
       "            return;\n",
       "        }\n",
       "\n",
       "        if (callback) {\n",
       "            try {\n",
       "                // console.log(\"Handling '\" + msg_type + \"' message: \", msg);\n",
       "                callback(fig, msg);\n",
       "            } catch (e) {\n",
       "                console.log(\n",
       "                    \"Exception inside the 'handler_\" + msg_type + \"' callback:\",\n",
       "                    e,\n",
       "                    e.stack,\n",
       "                    msg\n",
       "                );\n",
       "            }\n",
       "        }\n",
       "    };\n",
       "};\n",
       "\n",
       "// from http://stackoverflow.com/questions/1114465/getting-mouse-location-in-canvas\n",
       "mpl.findpos = function (e) {\n",
       "    //this section is from http://www.quirksmode.org/js/events_properties.html\n",
       "    var targ;\n",
       "    if (!e) {\n",
       "        e = window.event;\n",
       "    }\n",
       "    if (e.target) {\n",
       "        targ = e.target;\n",
       "    } else if (e.srcElement) {\n",
       "        targ = e.srcElement;\n",
       "    }\n",
       "    if (targ.nodeType === 3) {\n",
       "        // defeat Safari bug\n",
       "        targ = targ.parentNode;\n",
       "    }\n",
       "\n",
       "    // pageX,Y are the mouse positions relative to the document\n",
       "    var boundingRect = targ.getBoundingClientRect();\n",
       "    var x = e.pageX - (boundingRect.left + document.body.scrollLeft);\n",
       "    var y = e.pageY - (boundingRect.top + document.body.scrollTop);\n",
       "\n",
       "    return { x: x, y: y };\n",
       "};\n",
       "\n",
       "/*\n",
       " * return a copy of an object with only non-object keys\n",
       " * we need this to avoid circular references\n",
       " * http://stackoverflow.com/a/24161582/3208463\n",
       " */\n",
       "function simpleKeys(original) {\n",
       "    return Object.keys(original).reduce(function (obj, key) {\n",
       "        if (typeof original[key] !== 'object') {\n",
       "            obj[key] = original[key];\n",
       "        }\n",
       "        return obj;\n",
       "    }, {});\n",
       "}\n",
       "\n",
       "mpl.figure.prototype.mouse_event = function (event, name) {\n",
       "    var canvas_pos = mpl.findpos(event);\n",
       "\n",
       "    if (name === 'button_press') {\n",
       "        this.canvas.focus();\n",
       "        this.canvas_div.focus();\n",
       "    }\n",
       "\n",
       "    var x = canvas_pos.x * this.ratio;\n",
       "    var y = canvas_pos.y * this.ratio;\n",
       "\n",
       "    this.send_message(name, {\n",
       "        x: x,\n",
       "        y: y,\n",
       "        button: event.button,\n",
       "        step: event.step,\n",
       "        guiEvent: simpleKeys(event),\n",
       "    });\n",
       "\n",
       "    /* This prevents the web browser from automatically changing to\n",
       "     * the text insertion cursor when the button is pressed.  We want\n",
       "     * to control all of the cursor setting manually through the\n",
       "     * 'cursor' event from matplotlib */\n",
       "    event.preventDefault();\n",
       "    return false;\n",
       "};\n",
       "\n",
       "mpl.figure.prototype._key_event_extra = function (_event, _name) {\n",
       "    // Handle any extra behaviour associated with a key event\n",
       "};\n",
       "\n",
       "mpl.figure.prototype.key_event = function (event, name) {\n",
       "    // Prevent repeat events\n",
       "    if (name === 'key_press') {\n",
       "        if (event.which === this._key) {\n",
       "            return;\n",
       "        } else {\n",
       "            this._key = event.which;\n",
       "        }\n",
       "    }\n",
       "    if (name === 'key_release') {\n",
       "        this._key = null;\n",
       "    }\n",
       "\n",
       "    var value = '';\n",
       "    if (event.ctrlKey && event.which !== 17) {\n",
       "        value += 'ctrl+';\n",
       "    }\n",
       "    if (event.altKey && event.which !== 18) {\n",
       "        value += 'alt+';\n",
       "    }\n",
       "    if (event.shiftKey && event.which !== 16) {\n",
       "        value += 'shift+';\n",
       "    }\n",
       "\n",
       "    value += 'k';\n",
       "    value += event.which.toString();\n",
       "\n",
       "    this._key_event_extra(event, name);\n",
       "\n",
       "    this.send_message(name, { key: value, guiEvent: simpleKeys(event) });\n",
       "    return false;\n",
       "};\n",
       "\n",
       "mpl.figure.prototype.toolbar_button_onclick = function (name) {\n",
       "    if (name === 'download') {\n",
       "        this.handle_save(this, null);\n",
       "    } else {\n",
       "        this.send_message('toolbar_button', { name: name });\n",
       "    }\n",
       "};\n",
       "\n",
       "mpl.figure.prototype.toolbar_button_onmouseover = function (tooltip) {\n",
       "    this.message.textContent = tooltip;\n",
       "};\n",
       "\n",
       "///////////////// REMAINING CONTENT GENERATED BY embed_js.py /////////////////\n",
       "// prettier-ignore\n",
       "var _JSXTOOLS_RESIZE_OBSERVER=function(A){var t,i=new WeakMap,n=new WeakMap,a=new WeakMap,r=new WeakMap,o=new Set;function s(e){if(!(this instanceof s))throw new TypeError(\"Constructor requires 'new' operator\");i.set(this,e)}function h(){throw new TypeError(\"Function is not a constructor\")}function c(e,t,i,n){e=0 in arguments?Number(arguments[0]):0,t=1 in arguments?Number(arguments[1]):0,i=2 in arguments?Number(arguments[2]):0,n=3 in arguments?Number(arguments[3]):0,this.right=(this.x=this.left=e)+(this.width=i),this.bottom=(this.y=this.top=t)+(this.height=n),Object.freeze(this)}function d(){t=requestAnimationFrame(d);var s=new WeakMap,p=new Set;o.forEach((function(t){r.get(t).forEach((function(i){var r=t instanceof window.SVGElement,o=a.get(t),d=r?0:parseFloat(o.paddingTop),f=r?0:parseFloat(o.paddingRight),l=r?0:parseFloat(o.paddingBottom),u=r?0:parseFloat(o.paddingLeft),g=r?0:parseFloat(o.borderTopWidth),m=r?0:parseFloat(o.borderRightWidth),w=r?0:parseFloat(o.borderBottomWidth),b=u+f,F=d+l,v=(r?0:parseFloat(o.borderLeftWidth))+m,W=g+w,y=r?0:t.offsetHeight-W-t.clientHeight,E=r?0:t.offsetWidth-v-t.clientWidth,R=b+v,z=F+W,M=r?t.width:parseFloat(o.width)-R-E,O=r?t.height:parseFloat(o.height)-z-y;if(n.has(t)){var k=n.get(t);if(k[0]===M&&k[1]===O)return}n.set(t,[M,O]);var S=Object.create(h.prototype);S.target=t,S.contentRect=new c(u,d,M,O),s.has(i)||(s.set(i,[]),p.add(i)),s.get(i).push(S)}))})),p.forEach((function(e){i.get(e).call(e,s.get(e),e)}))}return s.prototype.observe=function(i){if(i instanceof window.Element){r.has(i)||(r.set(i,new Set),o.add(i),a.set(i,window.getComputedStyle(i)));var n=r.get(i);n.has(this)||n.add(this),cancelAnimationFrame(t),t=requestAnimationFrame(d)}},s.prototype.unobserve=function(i){if(i instanceof window.Element&&r.has(i)){var n=r.get(i);n.has(this)&&(n.delete(this),n.size||(r.delete(i),o.delete(i))),n.size||r.delete(i),o.size||cancelAnimationFrame(t)}},A.DOMRectReadOnly=c,A.ResizeObserver=s,A.ResizeObserverEntry=h,A}; // eslint-disable-line\n",
       "mpl.toolbar_items = [[\"Home\", \"Reset original view\", \"fa fa-home icon-home\", \"home\"], [\"Back\", \"Back to previous view\", \"fa fa-arrow-left icon-arrow-left\", \"back\"], [\"Forward\", \"Forward to next view\", \"fa fa-arrow-right icon-arrow-right\", \"forward\"], [\"\", \"\", \"\", \"\"], [\"Pan\", \"Left button pans, Right button zooms\\nx/y fixes axis, CTRL fixes aspect\", \"fa fa-arrows icon-move\", \"pan\"], [\"Zoom\", \"Zoom to rectangle\\nx/y fixes axis, CTRL fixes aspect\", \"fa fa-square-o icon-check-empty\", \"zoom\"], [\"\", \"\", \"\", \"\"], [\"Download\", \"Download plot\", \"fa fa-floppy-o icon-save\", \"download\"]];\n",
       "\n",
       "mpl.extensions = [\"eps\", \"jpeg\", \"pdf\", \"png\", \"ps\", \"raw\", \"svg\", \"tif\"];\n",
       "\n",
       "mpl.default_extension = \"png\";/* global mpl */\n",
       "\n",
       "var comm_websocket_adapter = function (comm) {\n",
       "    // Create a \"websocket\"-like object which calls the given IPython comm\n",
       "    // object with the appropriate methods. Currently this is a non binary\n",
       "    // socket, so there is still some room for performance tuning.\n",
       "    var ws = {};\n",
       "\n",
       "    ws.close = function () {\n",
       "        comm.close();\n",
       "    };\n",
       "    ws.send = function (m) {\n",
       "        //console.log('sending', m);\n",
       "        comm.send(m);\n",
       "    };\n",
       "    // Register the callback with on_msg.\n",
       "    comm.on_msg(function (msg) {\n",
       "        //console.log('receiving', msg['content']['data'], msg);\n",
       "        // Pass the mpl event to the overridden (by mpl) onmessage function.\n",
       "        ws.onmessage(msg['content']['data']);\n",
       "    });\n",
       "    return ws;\n",
       "};\n",
       "\n",
       "mpl.mpl_figure_comm = function (comm, msg) {\n",
       "    // This is the function which gets called when the mpl process\n",
       "    // starts-up an IPython Comm through the \"matplotlib\" channel.\n",
       "\n",
       "    var id = msg.content.data.id;\n",
       "    // Get hold of the div created by the display call when the Comm\n",
       "    // socket was opened in Python.\n",
       "    var element = document.getElementById(id);\n",
       "    var ws_proxy = comm_websocket_adapter(comm);\n",
       "\n",
       "    function ondownload(figure, _format) {\n",
       "        window.open(figure.canvas.toDataURL());\n",
       "    }\n",
       "\n",
       "    var fig = new mpl.figure(id, ws_proxy, ondownload, element);\n",
       "\n",
       "    // Call onopen now - mpl needs it, as it is assuming we've passed it a real\n",
       "    // web socket which is closed, not our websocket->open comm proxy.\n",
       "    ws_proxy.onopen();\n",
       "\n",
       "    fig.parent_element = element;\n",
       "    fig.cell_info = mpl.find_output_cell(\"<div id='\" + id + \"'></div>\");\n",
       "    if (!fig.cell_info) {\n",
       "        console.error('Failed to find cell for figure', id, fig);\n",
       "        return;\n",
       "    }\n",
       "    fig.cell_info[0].output_area.element.on(\n",
       "        'cleared',\n",
       "        { fig: fig },\n",
       "        fig._remove_fig_handler\n",
       "    );\n",
       "};\n",
       "\n",
       "mpl.figure.prototype.handle_close = function (fig, msg) {\n",
       "    var width = fig.canvas.width / fig.ratio;\n",
       "    fig.cell_info[0].output_area.element.off(\n",
       "        'cleared',\n",
       "        fig._remove_fig_handler\n",
       "    );\n",
       "    fig.resizeObserverInstance.unobserve(fig.canvas_div);\n",
       "\n",
       "    // Update the output cell to use the data from the current canvas.\n",
       "    fig.push_to_output();\n",
       "    var dataURL = fig.canvas.toDataURL();\n",
       "    // Re-enable the keyboard manager in IPython - without this line, in FF,\n",
       "    // the notebook keyboard shortcuts fail.\n",
       "    IPython.keyboard_manager.enable();\n",
       "    fig.parent_element.innerHTML =\n",
       "        '<img src=\"' + dataURL + '\" width=\"' + width + '\">';\n",
       "    fig.close_ws(fig, msg);\n",
       "};\n",
       "\n",
       "mpl.figure.prototype.close_ws = function (fig, msg) {\n",
       "    fig.send_message('closing', msg);\n",
       "    // fig.ws.close()\n",
       "};\n",
       "\n",
       "mpl.figure.prototype.push_to_output = function (_remove_interactive) {\n",
       "    // Turn the data on the canvas into data in the output cell.\n",
       "    var width = this.canvas.width / this.ratio;\n",
       "    var dataURL = this.canvas.toDataURL();\n",
       "    this.cell_info[1]['text/html'] =\n",
       "        '<img src=\"' + dataURL + '\" width=\"' + width + '\">';\n",
       "};\n",
       "\n",
       "mpl.figure.prototype.updated_canvas_event = function () {\n",
       "    // Tell IPython that the notebook contents must change.\n",
       "    IPython.notebook.set_dirty(true);\n",
       "    this.send_message('ack', {});\n",
       "    var fig = this;\n",
       "    // Wait a second, then push the new image to the DOM so\n",
       "    // that it is saved nicely (might be nice to debounce this).\n",
       "    setTimeout(function () {\n",
       "        fig.push_to_output();\n",
       "    }, 1000);\n",
       "};\n",
       "\n",
       "mpl.figure.prototype._init_toolbar = function () {\n",
       "    var fig = this;\n",
       "\n",
       "    var toolbar = document.createElement('div');\n",
       "    toolbar.classList = 'btn-toolbar';\n",
       "    this.root.appendChild(toolbar);\n",
       "\n",
       "    function on_click_closure(name) {\n",
       "        return function (_event) {\n",
       "            return fig.toolbar_button_onclick(name);\n",
       "        };\n",
       "    }\n",
       "\n",
       "    function on_mouseover_closure(tooltip) {\n",
       "        return function (event) {\n",
       "            if (!event.currentTarget.disabled) {\n",
       "                return fig.toolbar_button_onmouseover(tooltip);\n",
       "            }\n",
       "        };\n",
       "    }\n",
       "\n",
       "    fig.buttons = {};\n",
       "    var buttonGroup = document.createElement('div');\n",
       "    buttonGroup.classList = 'btn-group';\n",
       "    var button;\n",
       "    for (var toolbar_ind in mpl.toolbar_items) {\n",
       "        var name = mpl.toolbar_items[toolbar_ind][0];\n",
       "        var tooltip = mpl.toolbar_items[toolbar_ind][1];\n",
       "        var image = mpl.toolbar_items[toolbar_ind][2];\n",
       "        var method_name = mpl.toolbar_items[toolbar_ind][3];\n",
       "\n",
       "        if (!name) {\n",
       "            /* Instead of a spacer, we start a new button group. */\n",
       "            if (buttonGroup.hasChildNodes()) {\n",
       "                toolbar.appendChild(buttonGroup);\n",
       "            }\n",
       "            buttonGroup = document.createElement('div');\n",
       "            buttonGroup.classList = 'btn-group';\n",
       "            continue;\n",
       "        }\n",
       "\n",
       "        button = fig.buttons[name] = document.createElement('button');\n",
       "        button.classList = 'btn btn-default';\n",
       "        button.href = '#';\n",
       "        button.title = name;\n",
       "        button.innerHTML = '<i class=\"fa ' + image + ' fa-lg\"></i>';\n",
       "        button.addEventListener('click', on_click_closure(method_name));\n",
       "        button.addEventListener('mouseover', on_mouseover_closure(tooltip));\n",
       "        buttonGroup.appendChild(button);\n",
       "    }\n",
       "\n",
       "    if (buttonGroup.hasChildNodes()) {\n",
       "        toolbar.appendChild(buttonGroup);\n",
       "    }\n",
       "\n",
       "    // Add the status bar.\n",
       "    var status_bar = document.createElement('span');\n",
       "    status_bar.classList = 'mpl-message pull-right';\n",
       "    toolbar.appendChild(status_bar);\n",
       "    this.message = status_bar;\n",
       "\n",
       "    // Add the close button to the window.\n",
       "    var buttongrp = document.createElement('div');\n",
       "    buttongrp.classList = 'btn-group inline pull-right';\n",
       "    button = document.createElement('button');\n",
       "    button.classList = 'btn btn-mini btn-primary';\n",
       "    button.href = '#';\n",
       "    button.title = 'Stop Interaction';\n",
       "    button.innerHTML = '<i class=\"fa fa-power-off icon-remove icon-large\"></i>';\n",
       "    button.addEventListener('click', function (_evt) {\n",
       "        fig.handle_close(fig, {});\n",
       "    });\n",
       "    button.addEventListener(\n",
       "        'mouseover',\n",
       "        on_mouseover_closure('Stop Interaction')\n",
       "    );\n",
       "    buttongrp.appendChild(button);\n",
       "    var titlebar = this.root.querySelector('.ui-dialog-titlebar');\n",
       "    titlebar.insertBefore(buttongrp, titlebar.firstChild);\n",
       "};\n",
       "\n",
       "mpl.figure.prototype._remove_fig_handler = function (event) {\n",
       "    var fig = event.data.fig;\n",
       "    if (event.target !== this) {\n",
       "        // Ignore bubbled events from children.\n",
       "        return;\n",
       "    }\n",
       "    fig.close_ws(fig, {});\n",
       "};\n",
       "\n",
       "mpl.figure.prototype._root_extra_style = function (el) {\n",
       "    el.style.boxSizing = 'content-box'; // override notebook setting of border-box.\n",
       "};\n",
       "\n",
       "mpl.figure.prototype._canvas_extra_style = function (el) {\n",
       "    // this is important to make the div 'focusable\n",
       "    el.setAttribute('tabindex', 0);\n",
       "    // reach out to IPython and tell the keyboard manager to turn it's self\n",
       "    // off when our div gets focus\n",
       "\n",
       "    // location in version 3\n",
       "    if (IPython.notebook.keyboard_manager) {\n",
       "        IPython.notebook.keyboard_manager.register_events(el);\n",
       "    } else {\n",
       "        // location in version 2\n",
       "        IPython.keyboard_manager.register_events(el);\n",
       "    }\n",
       "};\n",
       "\n",
       "mpl.figure.prototype._key_event_extra = function (event, _name) {\n",
       "    var manager = IPython.notebook.keyboard_manager;\n",
       "    if (!manager) {\n",
       "        manager = IPython.keyboard_manager;\n",
       "    }\n",
       "\n",
       "    // Check for shift+enter\n",
       "    if (event.shiftKey && event.which === 13) {\n",
       "        this.canvas_div.blur();\n",
       "        // select the cell after this one\n",
       "        var index = IPython.notebook.find_cell_index(this.cell_info[0]);\n",
       "        IPython.notebook.select(index + 1);\n",
       "    }\n",
       "};\n",
       "\n",
       "mpl.figure.prototype.handle_save = function (fig, _msg) {\n",
       "    fig.ondownload(fig, null);\n",
       "};\n",
       "\n",
       "mpl.find_output_cell = function (html_output) {\n",
       "    // Return the cell and output element which can be found *uniquely* in the notebook.\n",
       "    // Note - this is a bit hacky, but it is done because the \"notebook_saving.Notebook\"\n",
       "    // IPython event is triggered only after the cells have been serialised, which for\n",
       "    // our purposes (turning an active figure into a static one), is too late.\n",
       "    var cells = IPython.notebook.get_cells();\n",
       "    var ncells = cells.length;\n",
       "    for (var i = 0; i < ncells; i++) {\n",
       "        var cell = cells[i];\n",
       "        if (cell.cell_type === 'code') {\n",
       "            for (var j = 0; j < cell.output_area.outputs.length; j++) {\n",
       "                var data = cell.output_area.outputs[j];\n",
       "                if (data.data) {\n",
       "                    // IPython >= 3 moved mimebundle to data attribute of output\n",
       "                    data = data.data;\n",
       "                }\n",
       "                if (data['text/html'] === html_output) {\n",
       "                    return [cell, data, j];\n",
       "                }\n",
       "            }\n",
       "        }\n",
       "    }\n",
       "};\n",
       "\n",
       "// Register the function which deals with the matplotlib target/channel.\n",
       "// The kernel may be null if the page has been refreshed.\n",
       "if (IPython.notebook.kernel !== null) {\n",
       "    IPython.notebook.kernel.comm_manager.register_target(\n",
       "        'matplotlib',\n",
       "        mpl.mpl_figure_comm\n",
       "    );\n",
       "}\n"
      ],
      "text/plain": [
       "<IPython.core.display.Javascript object>"
      ]
     },
     "metadata": {},
     "output_type": "display_data"
    },
    {
     "data": {
      "text/html": [
       "<img src=\"data:image/png;base64,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\" width=\"640\">"
      ],
      "text/plain": [
       "<IPython.core.display.HTML object>"
      ]
     },
     "metadata": {},
     "output_type": "display_data"
    },
    {
     "data": {
      "application/javascript": [
       "\n",
       "            setTimeout(function() {\n",
       "                var nbb_cell_id = 115;\n",
       "                var nbb_unformatted_code = \"plt.plot(train_losses, label=\\\"train_loss\\\")\\nplt.plot(validation_losses, label=\\\"validation_loss\\\")\\nplt.xlabel(\\\"No of Epochs\\\")\\nplt.ylabel(\\\"Loss\\\")\\nplt.legend()\\nplt.show()\";\n",
       "                var nbb_formatted_code = \"plt.plot(train_losses, label=\\\"train_loss\\\")\\nplt.plot(validation_losses, label=\\\"validation_loss\\\")\\nplt.xlabel(\\\"No of Epochs\\\")\\nplt.ylabel(\\\"Loss\\\")\\nplt.legend()\\nplt.show()\";\n",
       "                var nbb_cells = Jupyter.notebook.get_cells();\n",
       "                for (var i = 0; i < nbb_cells.length; ++i) {\n",
       "                    if (nbb_cells[i].input_prompt_number == nbb_cell_id) {\n",
       "                        if (nbb_cells[i].get_text() == nbb_unformatted_code) {\n",
       "                             nbb_cells[i].set_text(nbb_formatted_code);\n",
       "                        }\n",
       "                        break;\n",
       "                    }\n",
       "                }\n",
       "            }, 500);\n",
       "            "
      ],
      "text/plain": [
       "<IPython.core.display.Javascript object>"
      ]
     },
     "metadata": {},
     "output_type": "display_data"
    }
   ],
   "source": [
    "plt.plot(train_losses, label=\"train_loss\")\n",
    "plt.plot(validation_losses, label=\"validation_loss\")\n",
    "plt.xlabel(\"No of Epochs\")\n",
    "plt.ylabel(\"Loss\")\n",
    "plt.legend()\n",
    "plt.show()"
   ]
  },
  {
   "cell_type": "code",
   "execution_count": 116,
   "id": "c26a3d8a",
   "metadata": {},
   "outputs": [
    {
     "data": {
      "application/javascript": [
       "\n",
       "            setTimeout(function() {\n",
       "                var nbb_cell_id = 116;\n",
       "                var nbb_unformatted_code = \"def accuracy(loader):\\n    n_correct = 0\\n    n_total = 0\\n\\n    for inputs, targets in loader:\\n        inputs, targets = inputs.to(device), targets.to(device)\\n\\n        outputs = model(inputs)\\n\\n        _, predictions = torch.max(outputs, 1)\\n\\n        n_correct += (predictions == targets).sum().item()\\n        n_total += targets.shape[0]\\n\\n    acc = n_correct / n_total\\n    return acc\";\n",
       "                var nbb_formatted_code = \"def accuracy(loader):\\n    n_correct = 0\\n    n_total = 0\\n\\n    for inputs, targets in loader:\\n        inputs, targets = inputs.to(device), targets.to(device)\\n\\n        outputs = model(inputs)\\n\\n        _, predictions = torch.max(outputs, 1)\\n\\n        n_correct += (predictions == targets).sum().item()\\n        n_total += targets.shape[0]\\n\\n    acc = n_correct / n_total\\n    return acc\";\n",
       "                var nbb_cells = Jupyter.notebook.get_cells();\n",
       "                for (var i = 0; i < nbb_cells.length; ++i) {\n",
       "                    if (nbb_cells[i].input_prompt_number == nbb_cell_id) {\n",
       "                        if (nbb_cells[i].get_text() == nbb_unformatted_code) {\n",
       "                             nbb_cells[i].set_text(nbb_formatted_code);\n",
       "                        }\n",
       "                        break;\n",
       "                    }\n",
       "                }\n",
       "            }, 500);\n",
       "            "
      ],
      "text/plain": [
       "<IPython.core.display.Javascript object>"
      ]
     },
     "metadata": {},
     "output_type": "display_data"
    }
   ],
   "source": [
    "def accuracy(loader):\n",
    "    n_correct = 0\n",
    "    n_total = 0\n",
    "\n",
    "    for inputs, targets in loader:\n",
    "        inputs, targets = inputs.to(device), targets.to(device)\n",
    "\n",
    "        outputs = model(inputs)\n",
    "\n",
    "        _, predictions = torch.max(outputs, 1)\n",
    "\n",
    "        n_correct += (predictions == targets).sum().item()\n",
    "        n_total += targets.shape[0]\n",
    "\n",
    "    acc = n_correct / n_total\n",
    "    return acc\n"
   ]
  },
  {
   "cell_type": "code",
   "execution_count": 117,
   "id": "28e4b4cf",
   "metadata": {},
   "outputs": [
    {
     "data": {
      "application/javascript": [
       "\n",
       "            setTimeout(function() {\n",
       "                var nbb_cell_id = 117;\n",
       "                var nbb_unformatted_code = \"train_acc = accuracy(train_loader)\\ntest_acc = accuracy(test_loader)\\nvalidation_acc = accuracy(validation_loader)\";\n",
       "                var nbb_formatted_code = \"train_acc = accuracy(train_loader)\\ntest_acc = accuracy(test_loader)\\nvalidation_acc = accuracy(validation_loader)\";\n",
       "                var nbb_cells = Jupyter.notebook.get_cells();\n",
       "                for (var i = 0; i < nbb_cells.length; ++i) {\n",
       "                    if (nbb_cells[i].input_prompt_number == nbb_cell_id) {\n",
       "                        if (nbb_cells[i].get_text() == nbb_unformatted_code) {\n",
       "                             nbb_cells[i].set_text(nbb_formatted_code);\n",
       "                        }\n",
       "                        break;\n",
       "                    }\n",
       "                }\n",
       "            }, 500);\n",
       "            "
      ],
      "text/plain": [
       "<IPython.core.display.Javascript object>"
      ]
     },
     "metadata": {},
     "output_type": "display_data"
    }
   ],
   "source": [
    "train_acc = accuracy(train_loader)\n",
    "test_acc = accuracy(test_loader)\n",
    "validation_acc = accuracy(validation_loader)"
   ]
  },
  {
   "cell_type": "code",
   "execution_count": 118,
   "id": "426585f5",
   "metadata": {},
   "outputs": [
    {
     "name": "stdout",
     "output_type": "stream",
     "text": [
      "Train Accuracy : 0.029354207436399216\n",
      "Test Accuracy : 0.023076923076923078\n",
      "Validation Accuracy : 0.00909090909090909\n"
     ]
    },
    {
     "data": {
      "application/javascript": [
       "\n",
       "            setTimeout(function() {\n",
       "                var nbb_cell_id = 118;\n",
       "                var nbb_unformatted_code = \"print(\\n    f\\\"Train Accuracy : {train_acc}\\\\nTest Accuracy : {test_acc}\\\\nValidation Accuracy : {validation_acc}\\\"\\n)\";\n",
       "                var nbb_formatted_code = \"print(\\n    f\\\"Train Accuracy : {train_acc}\\\\nTest Accuracy : {test_acc}\\\\nValidation Accuracy : {validation_acc}\\\"\\n)\";\n",
       "                var nbb_cells = Jupyter.notebook.get_cells();\n",
       "                for (var i = 0; i < nbb_cells.length; ++i) {\n",
       "                    if (nbb_cells[i].input_prompt_number == nbb_cell_id) {\n",
       "                        if (nbb_cells[i].get_text() == nbb_unformatted_code) {\n",
       "                             nbb_cells[i].set_text(nbb_formatted_code);\n",
       "                        }\n",
       "                        break;\n",
       "                    }\n",
       "                }\n",
       "            }, 500);\n",
       "            "
      ],
      "text/plain": [
       "<IPython.core.display.Javascript object>"
      ]
     },
     "metadata": {},
     "output_type": "display_data"
    }
   ],
   "source": [
    "print(\n",
    "    f\"Train Accuracy : {train_acc}\\nTest Accuracy : {test_acc}\\nValidation Accuracy : {validation_acc}\"\n",
    ")"
   ]
  },
  {
   "cell_type": "code",
   "execution_count": null,
   "id": "ff12faec",
   "metadata": {},
   "outputs": [],
   "source": []
  },
  {
   "cell_type": "markdown",
   "id": "33d71ddb",
   "metadata": {},
   "source": [
    "Single Image Prediction"
   ]
  },
  {
   "cell_type": "code",
   "execution_count": 88,
   "id": "e66fc7e0",
   "metadata": {},
   "outputs": [
    {
     "data": {
      "application/javascript": [
       "\n",
       "            setTimeout(function() {\n",
       "                var nbb_cell_id = 88;\n",
       "                var nbb_unformatted_code = \"transform_index_to_disease = dataset.class_to_idx\";\n",
       "                var nbb_formatted_code = \"transform_index_to_disease = dataset.class_to_idx\";\n",
       "                var nbb_cells = Jupyter.notebook.get_cells();\n",
       "                for (var i = 0; i < nbb_cells.length; ++i) {\n",
       "                    if (nbb_cells[i].input_prompt_number == nbb_cell_id) {\n",
       "                        if (nbb_cells[i].get_text() == nbb_unformatted_code) {\n",
       "                             nbb_cells[i].set_text(nbb_formatted_code);\n",
       "                        }\n",
       "                        break;\n",
       "                    }\n",
       "                }\n",
       "            }, 500);\n",
       "            "
      ],
      "text/plain": [
       "<IPython.core.display.Javascript object>"
      ]
     },
     "metadata": {},
     "output_type": "display_data"
    }
   ],
   "source": [
    "transform_index_to_disease = dataset.class_to_idx"
   ]
  },
  {
   "cell_type": "code",
   "execution_count": 89,
   "id": "6d5079e0",
   "metadata": {},
   "outputs": [
    {
     "data": {
      "application/javascript": [
       "\n",
       "            setTimeout(function() {\n",
       "                var nbb_cell_id = 89;\n",
       "                var nbb_unformatted_code = \"transform_index_to_disease = dict(\\n    [(value, key) for key, value in transform_index_to_disease.items()]\\n)  #\";\n",
       "                var nbb_formatted_code = \"transform_index_to_disease = dict(\\n    [(value, key) for key, value in transform_index_to_disease.items()]\\n)  #\";\n",
       "                var nbb_cells = Jupyter.notebook.get_cells();\n",
       "                for (var i = 0; i < nbb_cells.length; ++i) {\n",
       "                    if (nbb_cells[i].input_prompt_number == nbb_cell_id) {\n",
       "                        if (nbb_cells[i].get_text() == nbb_unformatted_code) {\n",
       "                             nbb_cells[i].set_text(nbb_formatted_code);\n",
       "                        }\n",
       "                        break;\n",
       "                    }\n",
       "                }\n",
       "            }, 500);\n",
       "            "
      ],
      "text/plain": [
       "<IPython.core.display.Javascript object>"
      ]
     },
     "metadata": {},
     "output_type": "display_data"
    }
   ],
   "source": [
    "transform_index_to_disease = dict(\n",
    "    [(value, key) for key, value in transform_index_to_disease.items()]\n",
    ")  #"
   ]
  },
  {
   "cell_type": "code",
   "execution_count": 96,
   "id": "231aefc6",
   "metadata": {},
   "outputs": [
    {
     "data": {
      "application/javascript": [
       "\n",
       "            setTimeout(function() {\n",
       "                var nbb_cell_id = 96;\n",
       "                var nbb_unformatted_code = \"data = pd.read_csv(\\\"disease_info.csv\\\", encoding=\\\"cp1252\\\")\";\n",
       "                var nbb_formatted_code = \"data = pd.read_csv(\\\"disease_info.csv\\\", encoding=\\\"cp1252\\\")\";\n",
       "                var nbb_cells = Jupyter.notebook.get_cells();\n",
       "                for (var i = 0; i < nbb_cells.length; ++i) {\n",
       "                    if (nbb_cells[i].input_prompt_number == nbb_cell_id) {\n",
       "                        if (nbb_cells[i].get_text() == nbb_unformatted_code) {\n",
       "                             nbb_cells[i].set_text(nbb_formatted_code);\n",
       "                        }\n",
       "                        break;\n",
       "                    }\n",
       "                }\n",
       "            }, 500);\n",
       "            "
      ],
      "text/plain": [
       "<IPython.core.display.Javascript object>"
      ]
     },
     "metadata": {},
     "output_type": "display_data"
    }
   ],
   "source": [
    "data = pd.read_csv(\"disease_info.csv\", encoding=\"cp1252\")"
   ]
  },
  {
   "cell_type": "code",
   "execution_count": null,
   "id": "2879624f",
   "metadata": {},
   "outputs": [],
   "source": []
  },
  {
   "cell_type": "code",
   "execution_count": 97,
   "id": "2ff1e2c2",
   "metadata": {},
   "outputs": [
    {
     "data": {
      "application/javascript": [
       "\n",
       "            setTimeout(function() {\n",
       "                var nbb_cell_id = 97;\n",
       "                var nbb_unformatted_code = \"from PIL import Image\\nimport torchvision.transforms.functional as TF\";\n",
       "                var nbb_formatted_code = \"from PIL import Image\\nimport torchvision.transforms.functional as TF\";\n",
       "                var nbb_cells = Jupyter.notebook.get_cells();\n",
       "                for (var i = 0; i < nbb_cells.length; ++i) {\n",
       "                    if (nbb_cells[i].input_prompt_number == nbb_cell_id) {\n",
       "                        if (nbb_cells[i].get_text() == nbb_unformatted_code) {\n",
       "                             nbb_cells[i].set_text(nbb_formatted_code);\n",
       "                        }\n",
       "                        break;\n",
       "                    }\n",
       "                }\n",
       "            }, 500);\n",
       "            "
      ],
      "text/plain": [
       "<IPython.core.display.Javascript object>"
      ]
     },
     "metadata": {},
     "output_type": "display_data"
    }
   ],
   "source": [
    "from PIL import Image\n",
    "import torchvision.transforms.functional as TF"
   ]
  },
  {
   "cell_type": "code",
   "execution_count": 98,
   "id": "313cc80f",
   "metadata": {},
   "outputs": [
    {
     "data": {
      "application/javascript": [
       "\n",
       "            setTimeout(function() {\n",
       "                var nbb_cell_id = 98;\n",
       "                var nbb_unformatted_code = \"def single_prediction(image_path):\\n    image = Image.open(image_path)\\n    image = image.resize((224, 224))\\n    input_data = TF.to_tensor(image)\\n    input_data = input_data.view((-1, 3, 224, 224))\\n    output = model(input_data)\\n    output = output.detach().numpy()\\n    index = np.argmax(output)\\n    print(\\\"Original : \\\", image_path[12:-4])\\n    pred_csv = data[\\\"disease_name\\\"][index]\\n    print(pred_csv)\";\n",
       "                var nbb_formatted_code = \"def single_prediction(image_path):\\n    image = Image.open(image_path)\\n    image = image.resize((224, 224))\\n    input_data = TF.to_tensor(image)\\n    input_data = input_data.view((-1, 3, 224, 224))\\n    output = model(input_data)\\n    output = output.detach().numpy()\\n    index = np.argmax(output)\\n    print(\\\"Original : \\\", image_path[12:-4])\\n    pred_csv = data[\\\"disease_name\\\"][index]\\n    print(pred_csv)\";\n",
       "                var nbb_cells = Jupyter.notebook.get_cells();\n",
       "                for (var i = 0; i < nbb_cells.length; ++i) {\n",
       "                    if (nbb_cells[i].input_prompt_number == nbb_cell_id) {\n",
       "                        if (nbb_cells[i].get_text() == nbb_unformatted_code) {\n",
       "                             nbb_cells[i].set_text(nbb_formatted_code);\n",
       "                        }\n",
       "                        break;\n",
       "                    }\n",
       "                }\n",
       "            }, 500);\n",
       "            "
      ],
      "text/plain": [
       "<IPython.core.display.Javascript object>"
      ]
     },
     "metadata": {},
     "output_type": "display_data"
    }
   ],
   "source": [
    "def single_prediction(image_path):\n",
    "    image = Image.open(image_path)\n",
    "    image = image.resize((224, 224))\n",
    "    input_data = TF.to_tensor(image)\n",
    "    input_data = input_data.view((-1, 3, 224, 224))\n",
    "    output = model(input_data)\n",
    "    output = output.detach().numpy()\n",
    "    index = np.argmax(output)\n",
    "    print(\"Original : \", image_path[12:-4])\n",
    "    pred_csv = data[\"disease_name\"][index]\n",
    "    print(pred_csv)"
   ]
  },
  {
   "cell_type": "code",
   "execution_count": 105,
   "id": "9c1e744b",
   "metadata": {},
   "outputs": [
    {
     "name": "stdout",
     "output_type": "stream",
     "text": [
      "Original :  le___Apple_scab\\image (1)\n",
      "Tomato : Target Spot\n"
     ]
    },
    {
     "data": {
      "application/javascript": [
       "\n",
       "            setTimeout(function() {\n",
       "                var nbb_cell_id = 105;\n",
       "                var nbb_unformatted_code = \"single_prediction(\\\"data_aug\\\\Apple___Apple_scab\\\\image (1).JPG\\\")\";\n",
       "                var nbb_formatted_code = \"single_prediction(\\\"data_aug\\\\Apple___Apple_scab\\\\image (1).JPG\\\")\";\n",
       "                var nbb_cells = Jupyter.notebook.get_cells();\n",
       "                for (var i = 0; i < nbb_cells.length; ++i) {\n",
       "                    if (nbb_cells[i].input_prompt_number == nbb_cell_id) {\n",
       "                        if (nbb_cells[i].get_text() == nbb_unformatted_code) {\n",
       "                             nbb_cells[i].set_text(nbb_formatted_code);\n",
       "                        }\n",
       "                        break;\n",
       "                    }\n",
       "                }\n",
       "            }, 500);\n",
       "            "
      ],
      "text/plain": [
       "<IPython.core.display.Javascript object>"
      ]
     },
     "metadata": {},
     "output_type": "display_data"
    }
   ],
   "source": [
    "single_prediction(\"data_aug\\Apple___Apple_scab\\image (1).JPG\")"
   ]
  },
  {
   "cell_type": "code",
   "execution_count": 104,
   "id": "fb77ae81",
   "metadata": {},
   "outputs": [
    {
     "name": "stdout",
     "output_type": "stream",
     "text": [
      "Original :  ato___Septoria_leaf_spot\\image (2)\n",
      "Grape : Black Rot\n"
     ]
    },
    {
     "data": {
      "application/javascript": [
       "\n",
       "            setTimeout(function() {\n",
       "                var nbb_cell_id = 104;\n",
       "                var nbb_unformatted_code = \"single_prediction(\\\"data_aug\\\\Tomato___Septoria_leaf_spot\\\\image (2).JPG\\\")\";\n",
       "                var nbb_formatted_code = \"single_prediction(\\\"data_aug\\\\Tomato___Septoria_leaf_spot\\\\image (2).JPG\\\")\";\n",
       "                var nbb_cells = Jupyter.notebook.get_cells();\n",
       "                for (var i = 0; i < nbb_cells.length; ++i) {\n",
       "                    if (nbb_cells[i].input_prompt_number == nbb_cell_id) {\n",
       "                        if (nbb_cells[i].get_text() == nbb_unformatted_code) {\n",
       "                             nbb_cells[i].set_text(nbb_formatted_code);\n",
       "                        }\n",
       "                        break;\n",
       "                    }\n",
       "                }\n",
       "            }, 500);\n",
       "            "
      ],
      "text/plain": [
       "<IPython.core.display.Javascript object>"
      ]
     },
     "metadata": {},
     "output_type": "display_data"
    }
   ],
   "source": [
    "single_prediction(\"data_aug\\Tomato___Septoria_leaf_spot\\image (2).JPG\")"
   ]
  },
  {
   "cell_type": "code",
   "execution_count": 106,
   "id": "07e49f27",
   "metadata": {},
   "outputs": [
    {
     "name": "stdout",
     "output_type": "stream",
     "text": [
      "Original :  rry___healthy\\image (2)\n",
      "Grape : Black Rot\n"
     ]
    },
    {
     "data": {
      "application/javascript": [
       "\n",
       "            setTimeout(function() {\n",
       "                var nbb_cell_id = 106;\n",
       "                var nbb_unformatted_code = \"single_prediction(\\\"data_aug\\\\Cherry___healthy\\\\image (2).JPG\\\")\";\n",
       "                var nbb_formatted_code = \"single_prediction(\\\"data_aug\\\\Cherry___healthy\\\\image (2).JPG\\\")\";\n",
       "                var nbb_cells = Jupyter.notebook.get_cells();\n",
       "                for (var i = 0; i < nbb_cells.length; ++i) {\n",
       "                    if (nbb_cells[i].input_prompt_number == nbb_cell_id) {\n",
       "                        if (nbb_cells[i].get_text() == nbb_unformatted_code) {\n",
       "                             nbb_cells[i].set_text(nbb_formatted_code);\n",
       "                        }\n",
       "                        break;\n",
       "                    }\n",
       "                }\n",
       "            }, 500);\n",
       "            "
      ],
      "text/plain": [
       "<IPython.core.display.Javascript object>"
      ]
     },
     "metadata": {},
     "output_type": "display_data"
    }
   ],
   "source": [
    "single_prediction(\"data_aug\\Cherry___healthy\\image (2).JPG\")"
   ]
  },
  {
   "cell_type": "code",
   "execution_count": null,
   "id": "21694d2b",
   "metadata": {},
   "outputs": [],
   "source": []
  },
  {
   "cell_type": "code",
   "execution_count": null,
   "id": "a2aa7c25",
   "metadata": {},
   "outputs": [],
   "source": []
  }
 ],
 "metadata": {
  "kernelspec": {
   "display_name": "Python 3",
   "language": "python",
   "name": "python3"
  },
  "language_info": {
   "codemirror_mode": {
    "name": "ipython",
    "version": 3
   },
   "file_extension": ".py",
   "mimetype": "text/x-python",
   "name": "python",
   "nbconvert_exporter": "python",
   "pygments_lexer": "ipython3",
   "version": "3.8.8"
  }
 },
 "nbformat": 4,
 "nbformat_minor": 5
}
